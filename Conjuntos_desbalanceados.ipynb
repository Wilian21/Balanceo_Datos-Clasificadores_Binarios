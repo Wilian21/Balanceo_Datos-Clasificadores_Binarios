{
  "cells": [
    {
      "cell_type": "markdown",
      "metadata": {
        "id": "qz9voApJv8hB"
      },
      "source": [
        "INSTALACION LIBRERIA BALANCEO DE DATOS"
      ]
    },
    {
      "cell_type": "code",
      "execution_count": null,
      "metadata": {
        "id": "BVCwMHILwAn2"
      },
      "outputs": [],
      "source": [
        "pip install -U imbalanced-learn"
      ]
    },
    {
      "cell_type": "markdown",
      "source": [
        "LIBRERIAS"
      ],
      "metadata": {
        "id": "o74x7PjjPFRJ"
      }
    },
    {
      "cell_type": "code",
      "execution_count": null,
      "metadata": {
        "id": "YMTlMS2dv5Qe"
      },
      "outputs": [],
      "source": [
        "import pandas as pd\n",
        "import numpy as np\n",
        "from sklearn import metrics\n",
        "import time\n",
        "import matplotlib.pyplot as plt\n",
        "import seaborn as sns\n",
        "from sklearn.linear_model import LogisticRegression\n",
        "from sklearn.naive_bayes import GaussianNB\n",
        "from sklearn.neural_network import MLPClassifier\n",
        "from sklearn.metrics import classification_report\n",
        "from sklearn.metrics import confusion_matrix\n",
        "from sklearn.model_selection import cross_validate\n",
        "from sklearn.ensemble import RandomForestClassifier\n",
        "from sklearn.model_selection import StratifiedKFold\n",
        "from sklearn import preprocessing\n",
        "#---------------------\n",
        "from collections import Counter\n",
        "from imblearn.under_sampling import NearMiss\n",
        "from imblearn.combine import SMOTETomek\n",
        "from imblearn.combine import SMOTEENN \n",
        "from imblearn.over_sampling import SMOTE"
      ]
    },
    {
      "cell_type": "markdown",
      "metadata": {
        "id": "iEqj-Rm7v8Bn"
      },
      "source": [
        "LEER CSV"
      ]
    },
    {
      "cell_type": "code",
      "execution_count": null,
      "metadata": {
        "colab": {
          "base_uri": "https://localhost:8080/",
          "height": 270
        },
        "id": "6X-opYzywQHG",
        "outputId": "9440d9cb-83be-4105-ee9a-82704d1d91a4"
      },
      "outputs": [
        {
          "output_type": "execute_result",
          "data": {
            "text/html": [
              "\n",
              "  <div id=\"df-0551ada1-4dff-42a9-be62-117aa04696db\">\n",
              "    <div class=\"colab-df-container\">\n",
              "      <div>\n",
              "<style scoped>\n",
              "    .dataframe tbody tr th:only-of-type {\n",
              "        vertical-align: middle;\n",
              "    }\n",
              "\n",
              "    .dataframe tbody tr th {\n",
              "        vertical-align: top;\n",
              "    }\n",
              "\n",
              "    .dataframe thead th {\n",
              "        text-align: right;\n",
              "    }\n",
              "</style>\n",
              "<table border=\"1\" class=\"dataframe\">\n",
              "  <thead>\n",
              "    <tr style=\"text-align: right;\">\n",
              "      <th></th>\n",
              "      <th>hash</th>\n",
              "      <th>size_of_data</th>\n",
              "      <th>virtual_address</th>\n",
              "      <th>entropy</th>\n",
              "      <th>virtual_size</th>\n",
              "      <th>malware</th>\n",
              "    </tr>\n",
              "  </thead>\n",
              "  <tbody>\n",
              "    <tr>\n",
              "      <th>0</th>\n",
              "      <td>071e8c3f8922e186e57548cd4c703a5d</td>\n",
              "      <td>443392</td>\n",
              "      <td>4096</td>\n",
              "      <td>6.529624</td>\n",
              "      <td>442984</td>\n",
              "      <td>1</td>\n",
              "    </tr>\n",
              "    <tr>\n",
              "      <th>1</th>\n",
              "      <td>33f8e6d08a6aae939f25a8e0d63dd523</td>\n",
              "      <td>331264</td>\n",
              "      <td>4096</td>\n",
              "      <td>6.604314</td>\n",
              "      <td>330784</td>\n",
              "      <td>1</td>\n",
              "    </tr>\n",
              "    <tr>\n",
              "      <th>2</th>\n",
              "      <td>b68abd064e975e1c6d5f25e748663076</td>\n",
              "      <td>74240</td>\n",
              "      <td>4096</td>\n",
              "      <td>6.046789</td>\n",
              "      <td>73819</td>\n",
              "      <td>1</td>\n",
              "    </tr>\n",
              "    <tr>\n",
              "      <th>3</th>\n",
              "      <td>72049be7bd30ea61297ea624ae198067</td>\n",
              "      <td>219648</td>\n",
              "      <td>4096</td>\n",
              "      <td>6.497018</td>\n",
              "      <td>219524</td>\n",
              "      <td>1</td>\n",
              "    </tr>\n",
              "    <tr>\n",
              "      <th>4</th>\n",
              "      <td>c9b3700a77facf29172f32df6bc77f48</td>\n",
              "      <td>262144</td>\n",
              "      <td>4096</td>\n",
              "      <td>6.638142</td>\n",
              "      <td>261943</td>\n",
              "      <td>1</td>\n",
              "    </tr>\n",
              "  </tbody>\n",
              "</table>\n",
              "</div>\n",
              "      <button class=\"colab-df-convert\" onclick=\"convertToInteractive('df-0551ada1-4dff-42a9-be62-117aa04696db')\"\n",
              "              title=\"Convert this dataframe to an interactive table.\"\n",
              "              style=\"display:none;\">\n",
              "        \n",
              "  <svg xmlns=\"http://www.w3.org/2000/svg\" height=\"24px\"viewBox=\"0 0 24 24\"\n",
              "       width=\"24px\">\n",
              "    <path d=\"M0 0h24v24H0V0z\" fill=\"none\"/>\n",
              "    <path d=\"M18.56 5.44l.94 2.06.94-2.06 2.06-.94-2.06-.94-.94-2.06-.94 2.06-2.06.94zm-11 1L8.5 8.5l.94-2.06 2.06-.94-2.06-.94L8.5 2.5l-.94 2.06-2.06.94zm10 10l.94 2.06.94-2.06 2.06-.94-2.06-.94-.94-2.06-.94 2.06-2.06.94z\"/><path d=\"M17.41 7.96l-1.37-1.37c-.4-.4-.92-.59-1.43-.59-.52 0-1.04.2-1.43.59L10.3 9.45l-7.72 7.72c-.78.78-.78 2.05 0 2.83L4 21.41c.39.39.9.59 1.41.59.51 0 1.02-.2 1.41-.59l7.78-7.78 2.81-2.81c.8-.78.8-2.07 0-2.86zM5.41 20L4 18.59l7.72-7.72 1.47 1.35L5.41 20z\"/>\n",
              "  </svg>\n",
              "      </button>\n",
              "      \n",
              "  <style>\n",
              "    .colab-df-container {\n",
              "      display:flex;\n",
              "      flex-wrap:wrap;\n",
              "      gap: 12px;\n",
              "    }\n",
              "\n",
              "    .colab-df-convert {\n",
              "      background-color: #E8F0FE;\n",
              "      border: none;\n",
              "      border-radius: 50%;\n",
              "      cursor: pointer;\n",
              "      display: none;\n",
              "      fill: #1967D2;\n",
              "      height: 32px;\n",
              "      padding: 0 0 0 0;\n",
              "      width: 32px;\n",
              "    }\n",
              "\n",
              "    .colab-df-convert:hover {\n",
              "      background-color: #E2EBFA;\n",
              "      box-shadow: 0px 1px 2px rgba(60, 64, 67, 0.3), 0px 1px 3px 1px rgba(60, 64, 67, 0.15);\n",
              "      fill: #174EA6;\n",
              "    }\n",
              "\n",
              "    [theme=dark] .colab-df-convert {\n",
              "      background-color: #3B4455;\n",
              "      fill: #D2E3FC;\n",
              "    }\n",
              "\n",
              "    [theme=dark] .colab-df-convert:hover {\n",
              "      background-color: #434B5C;\n",
              "      box-shadow: 0px 1px 3px 1px rgba(0, 0, 0, 0.15);\n",
              "      filter: drop-shadow(0px 1px 2px rgba(0, 0, 0, 0.3));\n",
              "      fill: #FFFFFF;\n",
              "    }\n",
              "  </style>\n",
              "\n",
              "      <script>\n",
              "        const buttonEl =\n",
              "          document.querySelector('#df-0551ada1-4dff-42a9-be62-117aa04696db button.colab-df-convert');\n",
              "        buttonEl.style.display =\n",
              "          google.colab.kernel.accessAllowed ? 'block' : 'none';\n",
              "\n",
              "        async function convertToInteractive(key) {\n",
              "          const element = document.querySelector('#df-0551ada1-4dff-42a9-be62-117aa04696db');\n",
              "          const dataTable =\n",
              "            await google.colab.kernel.invokeFunction('convertToInteractive',\n",
              "                                                     [key], {});\n",
              "          if (!dataTable) return;\n",
              "\n",
              "          const docLinkHtml = 'Like what you see? Visit the ' +\n",
              "            '<a target=\"_blank\" href=https://colab.research.google.com/notebooks/data_table.ipynb>data table notebook</a>'\n",
              "            + ' to learn more about interactive tables.';\n",
              "          element.innerHTML = '';\n",
              "          dataTable['output_type'] = 'display_data';\n",
              "          await google.colab.output.renderOutput(dataTable, element);\n",
              "          const docLink = document.createElement('div');\n",
              "          docLink.innerHTML = docLinkHtml;\n",
              "          element.appendChild(docLink);\n",
              "        }\n",
              "      </script>\n",
              "    </div>\n",
              "  </div>\n",
              "  "
            ],
            "text/plain": [
              "                               hash  size_of_data  ...  virtual_size  malware\n",
              "0  071e8c3f8922e186e57548cd4c703a5d        443392  ...        442984        1\n",
              "1  33f8e6d08a6aae939f25a8e0d63dd523        331264  ...        330784        1\n",
              "2  b68abd064e975e1c6d5f25e748663076         74240  ...         73819        1\n",
              "3  72049be7bd30ea61297ea624ae198067        219648  ...        219524        1\n",
              "4  c9b3700a77facf29172f32df6bc77f48        262144  ...        261943        1\n",
              "\n",
              "[5 rows x 6 columns]"
            ]
          },
          "metadata": {},
          "execution_count": 25
        }
      ],
      "source": [
        "df = pd.read_csv(\"pe_section_headers.csv\")\n",
        "df.head(5)"
      ]
    },
    {
      "cell_type": "markdown",
      "source": [
        "VERIFICAR Y ELIMINAR DATOS"
      ],
      "metadata": {
        "id": "udrp5TF_PNU9"
      }
    },
    {
      "cell_type": "code",
      "execution_count": null,
      "metadata": {
        "colab": {
          "base_uri": "https://localhost:8080/"
        },
        "id": "7bnqqI6FwQTL",
        "outputId": "4041c490-2db3-4e34-8f3b-7be22cf6b31b"
      },
      "outputs": [
        {
          "output_type": "execute_result",
          "data": {
            "text/plain": [
              "(43293, 5)"
            ]
          },
          "metadata": {},
          "execution_count": 26
        }
      ],
      "source": [
        "#Eliminar la columna hash\n",
        "data= df.drop(['hash'],axis=1)\n",
        "data.head()\n",
        "data.shape"
      ]
    },
    {
      "cell_type": "code",
      "execution_count": null,
      "metadata": {
        "colab": {
          "base_uri": "https://localhost:8080/"
        },
        "id": "femm2mCBwQV_",
        "outputId": "8f760546-3724-4d86-b73c-85d267040f8d"
      },
      "outputs": [
        {
          "output_type": "stream",
          "name": "stdout",
          "text": [
            "<class 'pandas.core.frame.DataFrame'>\n",
            "RangeIndex: 43293 entries, 0 to 43292\n",
            "Data columns (total 5 columns):\n",
            " #   Column           Non-Null Count  Dtype  \n",
            "---  ------           --------------  -----  \n",
            " 0   size_of_data     43293 non-null  int64  \n",
            " 1   virtual_address  43293 non-null  int64  \n",
            " 2   entropy          43293 non-null  float64\n",
            " 3   virtual_size     43293 non-null  int64  \n",
            " 4   malware          43293 non-null  int64  \n",
            "dtypes: float64(1), int64(4)\n",
            "memory usage: 1.7 MB\n"
          ]
        }
      ],
      "source": [
        "#Verificar que los datos sean numericos\n",
        "data.info()"
      ]
    },
    {
      "cell_type": "code",
      "execution_count": null,
      "metadata": {
        "colab": {
          "base_uri": "https://localhost:8080/"
        },
        "id": "RY7M6MDswQZX",
        "outputId": "d99bd84b-6f28-478d-ca3b-49ec52bde10f"
      },
      "outputs": [
        {
          "output_type": "execute_result",
          "data": {
            "text/plain": [
              "size_of_data       0\n",
              "virtual_address    0\n",
              "entropy            0\n",
              "virtual_size       0\n",
              "malware            0\n",
              "dtype: int64"
            ]
          },
          "metadata": {},
          "execution_count": 28
        }
      ],
      "source": [
        "#Ver si existen datos faltantes\n",
        "data.isna().sum().sort_values()"
      ]
    },
    {
      "cell_type": "code",
      "execution_count": null,
      "metadata": {
        "colab": {
          "base_uri": "https://localhost:8080/"
        },
        "id": "97YQDVsKwaML",
        "outputId": "0bdfadeb-bab5-4691-9340-383f9dd2295c"
      },
      "outputs": [
        {
          "output_type": "stream",
          "name": "stdout",
          "text": [
            "(43293, 5)\n"
          ]
        }
      ],
      "source": [
        "data.drop_duplicates()\n",
        "print(data.shape)"
      ]
    },
    {
      "cell_type": "markdown",
      "metadata": {
        "id": "tmosKsL4wgUe"
      },
      "source": [
        "NUMERO DE OBSERVACIONES BINARIAS"
      ]
    },
    {
      "cell_type": "code",
      "execution_count": null,
      "metadata": {
        "colab": {
          "base_uri": "https://localhost:8080/"
        },
        "id": "jnHfKdOGwaSi",
        "outputId": "a2a6da3f-46f7-4946-feab-b30d959f59ff"
      },
      "outputs": [
        {
          "output_type": "stream",
          "name": "stdout",
          "text": [
            "malware\n",
            "0     1725\n",
            "1    41568\n",
            "dtype: int64\n"
          ]
        }
      ],
      "source": [
        "#Ver cuantas clases existe en el dataset\n",
        "print(data.groupby('malware').size())"
      ]
    },
    {
      "cell_type": "code",
      "execution_count": null,
      "metadata": {
        "colab": {
          "base_uri": "https://localhost:8080/",
          "height": 294
        },
        "id": "yUxivNtWwpG8",
        "outputId": "e49a5f8b-cc03-4627-a847-49e183e5d404"
      },
      "outputs": [
        {
          "data": {
            "image/png": "[encoded data removed]",
            "text/plain": [
              "<Figure size 432x288 with 1 Axes>"
            ]
          },
          "metadata": {},
          "output_type": "display_data"
        }
      ],
      "source": [
        "count_classes = data.value_counts(data['malware'], sort = True)\n",
        "count_classes.plot(kind = 'bar',rot=0, color=\"c\")\n",
        "plt.title(\"Número de observaciones por clase\")\n",
        "plt.xlabel(\"Clases\")\n",
        "plt.ylabel(\"Número de observaciones\")\n",
        "plt.show()"
      ]
    },
    {
      "cell_type": "markdown",
      "metadata": {
        "id": "-CgZrIZiwuTE"
      },
      "source": [
        "DIVIDIR EL DATASET EN X, Y"
      ]
    },
    {
      "cell_type": "code",
      "execution_count": null,
      "metadata": {
        "colab": {
          "base_uri": "https://localhost:8080/"
        },
        "id": "UfG6pxAowpOp",
        "outputId": "52895f29-6918-44e6-a091-8b9747d98dec"
      },
      "outputs": [
        {
          "output_type": "stream",
          "name": "stdout",
          "text": [
            "(43293, 4)\n",
            "(43293,)\n"
          ]
        }
      ],
      "source": [
        "#Division del dataset X los atributos\n",
        "#Y las clases\n",
        "#X= data[['size_of_data','virtual_address','entropy','virtual_size']]\n",
        "X=data.iloc[:,:-1]\n",
        "y = data['malware']\n",
        "\n",
        "print(X.shape)\n",
        "print(y.shape)"
      ]
    },
    {
      "cell_type": "markdown",
      "source": [
        "NORMALIZACION DEL CONJUNTO DE DATOS"
      ],
      "metadata": {
        "id": "pkNJ83lOPjW-"
      }
    },
    {
      "cell_type": "code",
      "execution_count": null,
      "metadata": {
        "colab": {
          "base_uri": "https://localhost:8080/"
        },
        "id": "kluCQuhRczP1",
        "outputId": "a2d28cd0-8ba3-4501-d6bd-db2bd4f8793f"
      },
      "outputs": [
        {
          "output_type": "stream",
          "name": "stdout",
          "text": [
            "[[-1.65823308e-01 -4.70320638e-02  1.60502208e-01 -1.69751884e-01]\n",
            " [-2.61375786e-01 -4.70320638e-02  2.42860621e-01 -2.64214120e-01]\n",
            " [-4.80404753e-01 -4.70320638e-02 -3.71902961e-01 -4.80555372e-01]\n",
            " ...\n",
            " [-3.20277998e-01 -4.70320638e-02  2.80161311e-01 -3.22172006e-01]\n",
            " [-1.65823308e-01 -4.70320638e-02  1.60502208e-01 -1.69751884e-01]\n",
            " [ 1.41340821e-01 -4.70320638e-02  1.47659537e-04  1.33833915e-01]]\n"
          ]
        }
      ],
      "source": [
        "X = preprocessing.StandardScaler().fit(X).transform(X)\n",
        "print(X)"
      ]
    },
    {
      "cell_type": "markdown",
      "metadata": {
        "id": "MEeQOGzdwzsT"
      },
      "source": [
        "CREACION DE STRATIFIEDKFOLD (VALIDACION CRUZADA)"
      ]
    },
    {
      "cell_type": "code",
      "execution_count": null,
      "metadata": {
        "colab": {
          "base_uri": "https://localhost:8080/"
        },
        "id": "0vGEOapfwpUo",
        "outputId": "bd2670f4-4079-4347-95f7-cea530d612e2"
      },
      "outputs": [
        {
          "output_type": "stream",
          "name": "stdout",
          "text": [
            "TRAIN: [28321 17900 19157 ...  7511 27578 31528] TEST: [20665 23393  6716 ... 30028  4688  5733]\n",
            "TRAIN: [10869 23451  9248 ... 10599  5463  2014] TEST: [42149 18491 43010 ... 41348 18534 35330]\n",
            "TRAIN: [19848 38592 11756 ... 37716 43257  6853] TEST: [19535 36154 12273 ... 25313 33444 12930]\n",
            "TRAIN: [ 1260   329 30988 ...  5004 11607 17546] TEST: [38368     3 21684 ... 31437 31708 28472]\n",
            "TRAIN: [24272 29322 31999 ... 15242 35921  5126] TEST: [22004 40113 34378 ... 14748 24416 12865]\n",
            "TRAIN: [15640  4777  4569 ...  1755 21420 31848] TEST: [ 7950  5760 42063 ... 42039 39556  6703]\n",
            "TRAIN: [17219 26200 32352 ...  6238 43013 19752] TEST: [ 2072 17863 40631 ... 38582 27253 37243]\n",
            "TRAIN: [12735 35636 31625 ... 38361  7422  3109] TEST: [41544  9315 16656 ...  3312  6697 12969]\n",
            "TRAIN: [42837 28643   372 ... 20025 22916 41888] TEST: [25704  9649 41662 ...  7103 14563 12233]\n",
            "TRAIN: [ 5384 36354 15082 ... 41291 27842 18640] TEST: [18514 18650 28535 ... 27823  5359  3455]\n"
          ]
        }
      ],
      "source": [
        "from sklearn.model_selection import StratifiedShuffleSplit\n",
        "kf=StratifiedShuffleSplit(n_splits=10, train_size=0.8, random_state=None)\n",
        "\n",
        "for train_index, test_index in kf.split(X, y):\n",
        "  print(\"TRAIN:\", train_index, \"TEST:\", test_index)\n",
        "  X_train, X_test = X[train_index], X[test_index]\n",
        "  y_train, y_test = y.iloc[train_index], y.iloc[test_index]\n"
      ]
    },
    {
      "cell_type": "markdown",
      "metadata": {
        "id": "n0IpRfHTw7da"
      },
      "source": [
        "CREACION DE ALGORITMOS"
      ]
    },
    {
      "cell_type": "code",
      "execution_count": null,
      "metadata": {
        "id": "BPf4p9tiw9kK"
      },
      "outputs": [],
      "source": [
        "########### REGRESION LOGISTICA ##############\n",
        "rl = LogisticRegression(penalty='l2', dual=False, tol=0.0001,class_weight='balanced', solver='lbfgs',\n",
        "                        multi_class='ovr')\n",
        "\n",
        "#class_weight='balanced', \n",
        "rlB = LogisticRegression(penalty='l2', dual=False, tol=0.0001,solver='lbfgs', multi_class='ovr')\n",
        "\n",
        "########### RANDOM FOREST ##############\n",
        "rf = RandomForestClassifier(n_estimators=100,bootstrap = True, criterion = 'gini')\n",
        "\n",
        "########### RED NEURONAL ##############\n",
        "\n",
        "mlp =MLPClassifier(hidden_layer_sizes = (100),activation='relu', solver='adam',alpha=0.0001,max_iter=2000)\n",
        "\n",
        "########### NAIVE BAYES ##############\n",
        "nv=GaussianNB(priors = None , var_smoothing = 1e-09)\n"
      ]
    },
    {
      "cell_type": "markdown",
      "metadata": {
        "id": "rd7_CTTj1Lsa"
      },
      "source": [
        "TECNICAS DE BALANCEO DE DATOS"
      ]
    },
    {
      "cell_type": "code",
      "execution_count": null,
      "metadata": {
        "colab": {
          "base_uri": "https://localhost:8080/"
        },
        "id": "YNmVeDYG1KKp",
        "outputId": "f17ef6c7-2ecb-4915-f5f8-76bcd021f048"
      },
      "outputs": [
        {
          "output_type": "stream",
          "name": "stdout",
          "text": [
            "Distribucion de clases antes del balanceo Counter({1: 41568, 0: 1725})\n",
            "Distribucion de clases despues del balanceo Counter({1: 41009, 0: 41009})\n"
          ]
        }
      ],
      "source": [
        "#SMOTETOMEK\n",
        "stomek = SMOTETomek(sampling_strategy='auto',random_state= None, smote=None,tomek=None)\n",
        "X_stomek, y_smotek = stomek.fit_resample(X, y)\n",
        "print (\"Distribucion de clases antes del balanceo {}\".format(Counter(y)))\n",
        "print (\"Distribucion de clases despues del balanceo {}\".format(Counter(y_smotek)))\n"
      ]
    },
    {
      "cell_type": "code",
      "execution_count": null,
      "metadata": {
        "colab": {
          "base_uri": "https://localhost:8080/"
        },
        "id": "7FnnjRWl9j6n",
        "outputId": "fd0dbd75-2a00-42f9-cd21-032c6b5f02e5"
      },
      "outputs": [
        {
          "output_type": "stream",
          "name": "stdout",
          "text": [
            "Distribucion de clases antes del balanceo Counter({1: 41568, 0: 1725})\n",
            "Distribucion de clases despues del balanceo Counter({1: 3450, 0: 1725})\n"
          ]
        }
      ],
      "source": [
        "#NEARMISS\n",
        "near = NearMiss(sampling_strategy= 0.5, version=2, n_neighbors=3,n_neighbors_ver3=3)\n",
        "X_near, y_near= near.fit_resample(X, y)\n",
        "print (\"Distribucion de clases antes del balanceo {}\".format(Counter(y)))\n",
        "print (\"Distribucion de clases despues del balanceo {}\".format(Counter(y_near)))\n"
      ]
    },
    {
      "cell_type": "code",
      "execution_count": null,
      "metadata": {
        "colab": {
          "base_uri": "https://localhost:8080/"
        },
        "id": "hse1TFrF9mbQ",
        "outputId": "58c5af79-ac5f-4085-b3f2-8fc0d1c5256e"
      },
      "outputs": [
        {
          "output_type": "stream",
          "name": "stdout",
          "text": [
            "Distribucion de clases antes del balanceo Counter({1: 41568, 0: 1725})\n",
            "Distribucion de clases despues del balanceo Counter({1: 37979, 0: 30224})\n"
          ]
        }
      ],
      "source": [
        "#SMOTEEN\n",
        "smoteen = SMOTEENN(sampling_strategy='auto',random_state=None, smote=None, enn=None)\n",
        "X_smoteen, y_smoteen = smoteen.fit_resample(X, y)\n",
        "\n",
        "print (\"Distribucion de clases antes del balanceo {}\".format(Counter(y)))\n",
        "print (\"Distribucion de clases despues del balanceo {}\".format(Counter(y_smoteen)))\n"
      ]
    },
    {
      "cell_type": "code",
      "execution_count": null,
      "metadata": {
        "colab": {
          "base_uri": "https://localhost:8080/"
        },
        "id": "ETWW54KvkrRP",
        "outputId": "0e8034cc-68ad-4a31-eac7-3011c8352a9d"
      },
      "outputs": [
        {
          "output_type": "stream",
          "name": "stdout",
          "text": [
            "Distribucion de clases antes del balanceo Counter({1: 41568, 0: 1725})\n",
            "Distribucion de clases despues del balanceo Counter({1: 41568, 0: 40977})\n"
          ]
        }
      ],
      "source": [
        "#SMOTE\n",
        "smote = SMOTE(sampling_strategy=0.9858,random_state=None, k_neighbors=5)\n",
        "X_smote, y_smote = smote.fit_resample(X, y)\n",
        "\n",
        "print (\"Distribucion de clases antes del balanceo {}\".format(Counter(y)))\n",
        "print (\"Distribucion de clases despues del balanceo {}\".format(Counter(y_smote)))"
      ]
    },
    {
      "cell_type": "markdown",
      "source": [
        "GRAFICA DEL CONJUNTO DE DATOS CON Y SIN TECNICAS DE BALANCEO DE DATOS"
      ],
      "metadata": {
        "id": "npJIGQIlPuTE"
      }
    },
    {
      "cell_type": "code",
      "source": [
        "plotdata = pd.DataFrame({\n",
        "    \"CDD\":[41568, 1725],\n",
        "    \"SMOTE\":[41568,40977],\n",
        "    \"SMOTETomek\":[41009,41009],\n",
        "    \"SMOTEENN\":[37979,30224],\n",
        "    \"Near Miss\":[3450,1725]\n",
        "    }, \n",
        "    index=[\"1\",\"0\"]\n",
        ")\n",
        "plotdata.plot(kind=\"bar\",width=0.5,color=['blue','green','red','m','yellow'])\n",
        "plt.title(\"Distribución de clases\", fontsize = 14)\n",
        "plt.xlabel(\"Clases\", fontsize = 14)\n",
        "plt.ylabel(\"Número de observaciones\", fontsize = 14)\n",
        "plt.savefig('distribucion.png')"
      ],
      "metadata": {
        "colab": {
          "base_uri": "https://localhost:8080/",
          "height": 297
        },
        "id": "N1q7qZvn3-aJ",
        "outputId": "da3b9dc9-b548-4ee9-ed28-e8573271417d"
      },
      "execution_count": null,
      "outputs": [
        {
          "output_type": "display_data",
          "data": {
            "image/png": "[encoded data removed]",
            "text/plain": [
              "<Figure size 432x288 with 1 Axes>"
            ]
          },
          "metadata": {
            "needs_background": "light"
          }
        }
      ]
    },
    {
      "cell_type": "markdown",
      "metadata": {
        "id": "jRJ9p6KjHGBb"
      },
      "source": [
        "FUNCION DE VALIDACION CRUZADA"
      ]
    },
    {
      "cell_type": "code",
      "execution_count": null,
      "metadata": {
        "id": "b-CZtTBL15SF"
      },
      "outputs": [],
      "source": [
        "def validacion(entrenamiento,prueba,modelo):\n",
        "  start = time.time()\n",
        "  TN=[]\n",
        "  FP=[]\n",
        "  FN=[]\n",
        "  TP=[]\n",
        "  ac=[]\n",
        "  fs=[]\n",
        "  pre=[]\n",
        "  re=[]\n",
        "  pr0=[]\n",
        "  re0=[]\n",
        "  f10=[]\n",
        "  pr1=[]\n",
        "  re1=[]\n",
        "  f11=[]\n",
        "  for train, test in kf.split(entrenamiento,prueba):\n",
        "    X_train, X_test = entrenamiento[train], entrenamiento[test]\n",
        "    end = time.time()\n",
        "    start1=time.time()\n",
        "    y_train, y_test = prueba.iloc[train], prueba.iloc[test]\n",
        "    modelo.fit(X_train,y_train)\n",
        "    y_pred = modelo.predict(X_test)\n",
        "    #print(y_pred)\n",
        "    conf = confusion_matrix(y_test,y_pred)\n",
        "    TN.append(conf[0,0])\n",
        "    FP.append(conf[0,1])\n",
        "    FN.append(conf[1,0])\n",
        "    TP.append(conf[1,1])\n",
        "    accy = metrics.accuracy_score(y_test, y_pred)\n",
        "    ac.append(accy)\n",
        "    f1= metrics.f1_score(y_test, y_pred)\n",
        "    fs.append(f1)\n",
        "    presi = metrics.precision_score(y_test, y_pred)\n",
        "    pre.append(presi)\n",
        "    reca = metrics.recall_score(y_test, y_pred)\n",
        "    re.append(reca)\n",
        "    #print(accy,\"---\",f1,\"---\",presi,\"---\",reca)\n",
        "    #print(\"MatrizConfusion\")\n",
        "    #print(\"----------------- SPLIT {} ----------------------\".format(cont))\n",
        "    #print(conf)\n",
        "    a=classification_report(y_test,y_pred,output_dict=True)\n",
        "    l0 = ['0',\"precision\", \"recall\", \"f1-score\"]\n",
        "    l1=['1',\"precision\", \"recall\", \"f1-score\"]\n",
        "    result = list(map(a.get, l0))\n",
        "    result1= list(map(a.get,l1))\n",
        "    #print(result)\n",
        "    pr0.append(result[0]['precision'])\n",
        "    re0.append(result[0]['recall'])\n",
        "    f10.append(result[0]['f1-score'])\n",
        "    pr1.append(result1[0]['precision'])\n",
        "    re1.append(result1[0]['recall'])\n",
        "    f11.append(result1[0]['f1-score'])\n",
        "    end1=time.time()\n",
        "\n",
        "  \n",
        "  print(\"MATRIZ DE CONFUSION\")\n",
        "  print('[[{} {} ] '.format(round(np.mean(TN)),(round(np.mean(FP)))))\n",
        "  print(' [{} {} ]]'.format(round(np.mean(FN)),(round(np.mean(TP)))))\n",
        "  print(\"----------Medidas de rendimiento------------\")\n",
        "  print('Accuracy {}'.format(np.mean(ac)))   \n",
        "  print('F1-Score {}'.format(np.mean(fs)))\n",
        "  print('Presicion {}'.format(np.mean(pre)))\n",
        "  print('Recall {}'.format(np.mean(re)))\n",
        "  TNF=round(np.mean(TN))/(round(np.mean(TN)) + round(np.mean(FP)))\n",
        "  print('TNR {}'.format(TNF))\n",
        "\n",
        "  print(\"-----------Reporte por clase-------------------\")\n",
        "  print(\"         Presicion   Recall   F1-Score\")\n",
        "  print('Clase 0:  {:.3f}     {:.3f}    {:.3f} '.format(np.mean(pr0),np.mean(re0),np.mean(f10)))\n",
        "  print('Clase 1:  {:.3f}     {:.3f}    {:.3f} '.format(np.mean(pr1),np.mean(re1),np.mean(f11)))\n",
        "  print(\"----------------------------------------\")\n",
        "  print(\"Tiempo de entrenamiento:\", end - start,\"seg\")\n",
        "  print(\"Tiempo de validacion:\", end1 - start1,\"seg\")"
      ]
    },
    {
      "cell_type": "markdown",
      "metadata": {
        "id": "5upGZ4ox99Og"
      },
      "source": [
        "REGRESION LOGISTICA SIN BALANCEO DE DATOS"
      ]
    },
    {
      "cell_type": "code",
      "execution_count": null,
      "metadata": {
        "colab": {
          "base_uri": "https://localhost:8080/"
        },
        "id": "emfNB-4Ew9qT",
        "outputId": "797e7d95-c456-421f-c745-4c47b12841ea"
      },
      "outputs": [
        {
          "output_type": "stream",
          "name": "stdout",
          "text": [
            "MATRIZ DE CONFUSION\n",
            "[[181 164 ] \n",
            " [2159 6155 ]]\n",
            "----------Medidas de rendimiento------------\n",
            "Accuracy 0.7317357662547639\n",
            "F1-Score 0.8408860751945328\n",
            "Presicion 0.9740979131188773\n",
            "Recall 0.7402814529708925\n",
            "TNR 0.5246376811594203\n",
            "-----------Reporte por clase-------------------\n",
            "         Presicion   Recall   F1-Score\n",
            "Clase 0:  0.078     0.526    0.136 \n",
            "Clase 1:  0.974     0.740    0.841 \n",
            "----------------------------------------\n",
            "Tiempo de entrenamiento: 2.2585835456848145 seg\n",
            "Tiempo de validacion: 0.21023344993591309 seg\n"
          ]
        }
      ],
      "source": [
        "#REGRESION LOGISTICA SIN BALANCEO DE DATOS\n",
        "validacion(X,y,rl)"
      ]
    },
    {
      "cell_type": "markdown",
      "metadata": {
        "id": "YVkGHfiw_E9d"
      },
      "source": [
        "REGRESION LOGISTICA CON BALANCEO DE DATOS NEAR MISS, SMOTETomek, SMOTEENN, SMOTE"
      ]
    },
    {
      "cell_type": "code",
      "execution_count": null,
      "metadata": {
        "colab": {
          "base_uri": "https://localhost:8080/"
        },
        "id": "jfcEbKjuw9zz",
        "outputId": "27e65016-ed5c-4dca-af31-2999a306e395"
      },
      "outputs": [
        {
          "output_type": "stream",
          "name": "stdout",
          "text": [
            "NEARMISS\n",
            "MATRIZ DE CONFUSION\n",
            "[[314 31 ] \n",
            " [0 690 ]]\n",
            "----------Medidas de rendimiento------------\n",
            "Accuracy 0.970048309178744\n",
            "F1-Score 0.9780350785429303\n",
            "Presicion 0.9570240949344981\n",
            "Recall 1.0\n",
            "TNR 0.9101449275362319\n",
            "-----------Reporte por clase-------------------\n",
            "         Presicion   Recall   F1-Score\n",
            "Clase 0:  1.000     0.910    0.953 \n",
            "Clase 1:  0.957     1.000    0.978 \n",
            "----------------------------------------\n",
            "Tiempo de entrenamiento: 0.41817283630371094 seg\n",
            "Tiempo de validacion: 0.036986589431762695 seg\n"
          ]
        }
      ],
      "source": [
        "#REGRESION LOGISTICA CON BALANCEO DE DATOS \n",
        "print(\"NEARMISS\")\n",
        "validacion(X_near,y_near,rlB)"
      ]
    },
    {
      "cell_type": "code",
      "execution_count": null,
      "metadata": {
        "colab": {
          "base_uri": "https://localhost:8080/"
        },
        "id": "CUPbXuj__CaD",
        "outputId": "51aecb25-b5e6-46bd-8253-bff342f9a89c"
      },
      "outputs": [
        {
          "output_type": "stream",
          "name": "stdout",
          "text": [
            "SMOTETOMEK\n",
            "MATRIZ DE CONFUSION\n",
            "[[4661 3541 ] \n",
            " [2395 5807 ]]\n",
            "----------Medidas de rendimiento------------\n",
            "Accuracy 0.6381431358205315\n",
            "F1-Score 0.6616368586208592\n",
            "Presicion 0.6211201160373128\n",
            "Recall 0.7080102414045355\n",
            "TNR 0.5682760302365277\n",
            "-----------Reporte por clase-------------------\n",
            "         Presicion   Recall   F1-Score\n",
            "Clase 0:  0.661     0.568    0.611 \n",
            "Clase 1:  0.621     0.708    0.662 \n",
            "----------------------------------------\n",
            "Tiempo de entrenamiento: 6.286749601364136 seg\n",
            "Tiempo de validacion: 0.4210991859436035 seg\n"
          ]
        }
      ],
      "source": [
        "print(\"SMOTETOMEK\")\n",
        "validacion(X_stomek, y_smotek,rlB)"
      ]
    },
    {
      "cell_type": "code",
      "execution_count": null,
      "metadata": {
        "colab": {
          "base_uri": "https://localhost:8080/"
        },
        "id": "qCME6q-E_Nt0",
        "outputId": "077297fa-cfb7-4999-9c87-1803c531b8e0"
      },
      "outputs": [
        {
          "output_type": "stream",
          "name": "stdout",
          "text": [
            "SMOTEENN\n",
            "MATRIZ DE CONFUSION\n",
            "[[338 5707 ] \n",
            " [589 7007 ]]\n",
            "----------Medidas de rendimiento------------\n",
            "Accuracy 0.5384649219265449\n",
            "F1-Score 0.6900205000527393\n",
            "Presicion 0.5511310507959375\n",
            "Recall 0.9224986835176407\n",
            "TNR 0.05591397849462366\n",
            "-----------Reporte por clase-------------------\n",
            "         Presicion   Recall   F1-Score\n",
            "Clase 0:  0.365     0.056    0.097 \n",
            "Clase 1:  0.551     0.922    0.690 \n",
            "----------------------------------------\n",
            "Tiempo de entrenamiento: 5.5805792808532715 seg\n",
            "Tiempo de validacion: 0.32874441146850586 seg\n"
          ]
        }
      ],
      "source": [
        "print(\"SMOTEENN\")\n",
        "validacion(X_smoteen, y_smoteen,rlB)"
      ]
    },
    {
      "cell_type": "code",
      "execution_count": null,
      "metadata": {
        "colab": {
          "base_uri": "https://localhost:8080/"
        },
        "id": "lQsm2w0Ek9g-",
        "outputId": "87709d1e-06ef-4d0d-830b-7428d0d14eb1"
      },
      "outputs": [
        {
          "output_type": "stream",
          "name": "stdout",
          "text": [
            "SMOTE\n",
            "MATRIZ DE CONFUSION\n",
            "[[3786 4408 ] \n",
            " [1479 6835 ]]\n",
            "----------Medidas de rendimiento------------\n",
            "Accuracy 0.6434005693863952\n",
            "F1-Score 0.6989915916650686\n",
            "Presicion 0.6079431431414604\n",
            "Recall 0.8221554005292278\n",
            "TNR 0.4620453990724921\n",
            "-----------Reporte por clase-------------------\n",
            "         Presicion   Recall   F1-Score\n",
            "Clase 0:  0.719     0.462    0.563 \n",
            "Clase 1:  0.608     0.822    0.699 \n",
            "----------------------------------------\n",
            "Tiempo de entrenamiento: 6.475366830825806 seg\n",
            "Tiempo de validacion: 0.3976271152496338 seg\n"
          ]
        }
      ],
      "source": [
        "print(\"SMOTE\")\n",
        "validacion(X_smote,y_smote,rlB)"
      ]
    },
    {
      "cell_type": "markdown",
      "metadata": {
        "id": "keBdpkDu_XgJ"
      },
      "source": [
        "RANDOM FOREST SIN BALANCEO DE DATOS"
      ]
    },
    {
      "cell_type": "code",
      "execution_count": null,
      "metadata": {
        "colab": {
          "base_uri": "https://localhost:8080/"
        },
        "id": "J4HdVFmfDQzu",
        "outputId": "dba3d635-4288-4c07-f833-fc5e722abdee"
      },
      "outputs": [
        {
          "output_type": "stream",
          "name": "stdout",
          "text": [
            "MATRIZ DE CONFUSION\n",
            "[[156 189 ] \n",
            " [81 8233 ]]\n",
            "----------Medidas de rendimiento------------\n",
            "Accuracy 0.9688532163067329\n",
            "F1-Score 0.9838854068904812\n",
            "Presicion 0.977560168326346\n",
            "Recall 0.9902934808756314\n",
            "TNR 0.45217391304347826\n",
            "-----------Reporte por clase-------------------\n",
            "         Presicion   Recall   F1-Score\n",
            "Clase 0:  0.659     0.452    0.536 \n",
            "Clase 1:  0.978     0.990    0.984 \n",
            "----------------------------------------\n",
            "Tiempo de entrenamiento: 32.908077001571655 seg\n",
            "Tiempo de validacion: 3.5659313201904297 seg\n"
          ]
        }
      ],
      "source": [
        "validacion(X,y,rf)"
      ]
    },
    {
      "cell_type": "markdown",
      "metadata": {
        "id": "9RSEf_4ADTqL"
      },
      "source": [
        "RANDOM FOREST CON BALANCEO DE DATOS NEAR MISS, SMOTETomek, SMOTEENN, SMOTE"
      ]
    },
    {
      "cell_type": "code",
      "execution_count": null,
      "metadata": {
        "colab": {
          "base_uri": "https://localhost:8080/"
        },
        "id": "ar8PgASyDW29",
        "outputId": "74b63243-c19c-417d-bdde-9ee6834db2f0"
      },
      "outputs": [
        {
          "output_type": "stream",
          "name": "stdout",
          "text": [
            "NEARMISS\n",
            "MATRIZ DE CONFUSION\n",
            "[[335 10 ] \n",
            " [8 682 ]]\n",
            "----------Medidas de rendimiento------------\n",
            "Accuracy 0.9830917874396136\n",
            "F1-Score 0.9873456630402007\n",
            "Presicion 0.985576828801829\n",
            "Recall 0.9891304347826086\n",
            "TNR 0.9710144927536232\n",
            "-----------Reporte por clase-------------------\n",
            "         Presicion   Recall   F1-Score\n",
            "Clase 0:  0.978     0.971    0.975 \n",
            "Clase 1:  0.986     0.989    0.987 \n",
            "----------------------------------------\n",
            "Tiempo de entrenamiento: 2.9628639221191406 seg\n",
            "Tiempo de validacion: 0.32343125343322754 seg\n"
          ]
        }
      ],
      "source": [
        "print(\"NEARMISS\")\n",
        "validacion(X_near,y_near,rf)"
      ]
    },
    {
      "cell_type": "code",
      "execution_count": null,
      "metadata": {
        "colab": {
          "base_uri": "https://localhost:8080/"
        },
        "id": "oDWbpmVzDW--",
        "outputId": "b141bc8d-07f6-493d-e2e8-da8d659cc773"
      },
      "outputs": [
        {
          "output_type": "stream",
          "name": "stdout",
          "text": [
            "SMOTETOMEK\n",
            "MATRIZ DE CONFUSION\n",
            "[[8047 155 ] \n",
            " [332 7870 ]]\n",
            "----------Medidas de rendimiento------------\n",
            "Accuracy 0.970287734698854\n",
            "F1-Score 0.9699625931601596\n",
            "Presicion 0.980700916378631\n",
            "Recall 0.9594611070470617\n",
            "TNR 0.9811021702023897\n",
            "-----------Reporte por clase-------------------\n",
            "         Presicion   Recall   F1-Score\n",
            "Clase 0:  0.960     0.981    0.971 \n",
            "Clase 1:  0.981     0.959    0.970 \n",
            "----------------------------------------\n",
            "Tiempo de entrenamiento: 88.21419906616211 seg\n",
            "Tiempo de validacion: 9.620742797851562 seg\n"
          ]
        }
      ],
      "source": [
        "print(\"SMOTETOMEK\")\n",
        "validacion(X_stomek, y_smotek,rf)"
      ]
    },
    {
      "cell_type": "code",
      "execution_count": null,
      "metadata": {
        "colab": {
          "base_uri": "https://localhost:8080/"
        },
        "id": "DQuLABjkDXDN",
        "outputId": "fbe9ff04-0c30-4cd3-e5ed-427799dd0018"
      },
      "outputs": [
        {
          "output_type": "stream",
          "name": "stdout",
          "text": [
            "SMOTEENN\n",
            "MATRIZ DE CONFUSION\n",
            "[[6004 41 ] \n",
            " [88 7508 ]]\n",
            "----------Medidas de rendimiento------------\n",
            "Accuracy 0.9905945311927278\n",
            "F1-Score 0.9915280070397484\n",
            "Presicion 0.9946090254695829\n",
            "Recall 0.9884676145339653\n",
            "TNR 0.993217535153019\n",
            "-----------Reporte por clase-------------------\n",
            "         Presicion   Recall   F1-Score\n",
            "Clase 0:  0.986     0.993    0.989 \n",
            "Clase 1:  0.995     0.988    0.992 \n",
            "----------------------------------------\n",
            "Tiempo de entrenamiento: 68.02326989173889 seg\n",
            "Tiempo de validacion: 7.483160018920898 seg\n"
          ]
        }
      ],
      "source": [
        "print(\"SMOTEENN\")\n",
        "validacion(X_smoteen, y_smoteen,rf)"
      ]
    },
    {
      "cell_type": "code",
      "execution_count": null,
      "metadata": {
        "colab": {
          "base_uri": "https://localhost:8080/"
        },
        "id": "Ks3UVbdBlO5_",
        "outputId": "32f7e55e-1529-41c4-f676-9ac6b1d31e21"
      },
      "outputs": [
        {
          "output_type": "stream",
          "name": "stdout",
          "text": [
            "SMOTE\n",
            "MATRIZ DE CONFUSION\n",
            "[[7991 204 ] \n",
            " [410 7904 ]]\n",
            "----------Medidas de rendimiento------------\n",
            "Accuracy 0.962820279847356\n",
            "F1-Score 0.9626232705981534\n",
            "Presicion 0.9748404745156289\n",
            "Recall 0.9507096463796006\n",
            "TNR 0.9751067724222087\n",
            "-----------Reporte por clase-------------------\n",
            "         Presicion   Recall   F1-Score\n",
            "Clase 0:  0.951     0.975    0.963 \n",
            "Clase 1:  0.975     0.951    0.963 \n",
            "----------------------------------------\n",
            "Tiempo de entrenamiento: 89.39718699455261 seg\n",
            "Tiempo de validacion: 9.733158588409424 seg\n"
          ]
        }
      ],
      "source": [
        "print(\"SMOTE\")\n",
        "validacion(X_smote,y_smote,rf)"
      ]
    },
    {
      "cell_type": "markdown",
      "metadata": {
        "id": "zmVwyzxXD868"
      },
      "source": [
        "NAIVE BAYES SIN BALANCEO DE DATOS"
      ]
    },
    {
      "cell_type": "code",
      "execution_count": null,
      "metadata": {
        "colab": {
          "base_uri": "https://localhost:8080/"
        },
        "id": "vQREuhLDEBpM",
        "outputId": "19b01d74-2991-4c8c-a409-d73d5a49f5f5"
      },
      "outputs": [
        {
          "output_type": "stream",
          "name": "stdout",
          "text": [
            "MATRIZ DE CONFUSION\n",
            "[[24 321 ] \n",
            " [813 7501 ]]\n",
            "----------Medidas de rendimiento------------\n",
            "Accuracy 0.8690610925049083\n",
            "F1-Score 0.9297261802773242\n",
            "Presicion 0.9589866933704576\n",
            "Recall 0.9022131344719749\n",
            "TNR 0.06956521739130435\n",
            "-----------Reporte por clase-------------------\n",
            "         Presicion   Recall   F1-Score\n",
            "Clase 0:  0.029     0.070    0.041 \n",
            "Clase 1:  0.959     0.902    0.930 \n",
            "----------------------------------------\n",
            "Tiempo de entrenamiento: 0.5203063488006592 seg\n",
            "Tiempo de validacion: 0.0372161865234375 seg\n"
          ]
        }
      ],
      "source": [
        "validacion(X,y,nv)"
      ]
    },
    {
      "cell_type": "markdown",
      "metadata": {
        "id": "G-Vf7nwWEJJa"
      },
      "source": [
        "NAIVE BAYES CON BALANCEO DE DATOS NEAR MISS, SMOTETomek, SMOTEENN, SMOTE"
      ]
    },
    {
      "cell_type": "code",
      "execution_count": null,
      "metadata": {
        "colab": {
          "base_uri": "https://localhost:8080/"
        },
        "id": "CR7__ElkEMuA",
        "outputId": "8bcf6d37-1991-48c1-c0f8-20df21c11850"
      },
      "outputs": [
        {
          "output_type": "stream",
          "name": "stdout",
          "text": [
            "NEARMISS\n",
            "MATRIZ DE CONFUSION\n",
            "[[313 32 ] \n",
            " [10 680 ]]\n",
            "----------Medidas de rendimiento------------\n",
            "Accuracy 0.9600966183574879\n",
            "F1-Score 0.9705442907365829\n",
            "Presicion 0.9554888805617547\n",
            "Recall 0.9860869565217392\n",
            "TNR 0.9072463768115943\n",
            "-----------Reporte por clase-------------------\n",
            "         Presicion   Recall   F1-Score\n",
            "Clase 0:  0.970     0.908    0.938 \n",
            "Clase 1:  0.955     0.986    0.971 \n",
            "----------------------------------------\n",
            "Tiempo de entrenamiento: 0.14359331130981445 seg\n",
            "Tiempo de validacion: 0.011545658111572266 seg\n"
          ]
        }
      ],
      "source": [
        "print(\"NEARMISS\")\n",
        "validacion(X_near,y_near,nv)"
      ]
    },
    {
      "cell_type": "code",
      "execution_count": null,
      "metadata": {
        "colab": {
          "base_uri": "https://localhost:8080/"
        },
        "id": "XBKKN_1EEM0b",
        "outputId": "bf58efbd-f857-416a-b167-b031e529a085"
      },
      "outputs": [
        {
          "output_type": "stream",
          "name": "stdout",
          "text": [
            "SMOTETOMEK\n",
            "MATRIZ DE CONFUSION\n",
            "[[7962 240 ] \n",
            " [6956 1246 ]]\n",
            "----------Medidas de rendimiento------------\n",
            "Accuracy 0.5613143135820531\n",
            "F1-Score 0.2571776530837371\n",
            "Presicion 0.8385960167655346\n",
            "Recall 0.15192635942453062\n",
            "TNR 0.9707388441843453\n",
            "-----------Reporte por clase-------------------\n",
            "         Presicion   Recall   F1-Score\n",
            "Clase 0:  0.534     0.971    0.689 \n",
            "Clase 1:  0.839     0.152    0.257 \n",
            "----------------------------------------\n",
            "Tiempo de entrenamiento: 1.1031808853149414 seg\n",
            "Tiempo de validacion: 0.08082842826843262 seg\n"
          ]
        }
      ],
      "source": [
        "print(\"SMOTETOMEK\")\n",
        "validacion(X_stomek, y_smotek,nv)"
      ]
    },
    {
      "cell_type": "code",
      "execution_count": null,
      "metadata": {
        "colab": {
          "base_uri": "https://localhost:8080/"
        },
        "id": "sqhIvhzSEM5n",
        "outputId": "aff27a48-f2ed-49d4-ad55-c1d5011d12d9"
      },
      "outputs": [
        {
          "output_type": "stream",
          "name": "stdout",
          "text": [
            "SMOTEENN\n",
            "MATRIZ DE CONFUSION\n",
            "[[5816 229 ] \n",
            " [6329 1267 ]]\n",
            "----------Medidas de rendimiento------------\n",
            "Accuracy 0.5192214647020013\n",
            "F1-Score 0.27866857909984377\n",
            "Presicion 0.8469578167206742\n",
            "Recall 0.16681147972617166\n",
            "TNR 0.9621174524400331\n",
            "-----------Reporte por clase-------------------\n",
            "         Presicion   Recall   F1-Score\n",
            "Clase 0:  0.479     0.962    0.639 \n",
            "Clase 1:  0.847     0.167    0.279 \n",
            "----------------------------------------\n",
            "Tiempo de entrenamiento: 0.9063727855682373 seg\n",
            "Tiempo de validacion: 0.0680856704711914 seg\n"
          ]
        }
      ],
      "source": [
        "print(\"SMOTEENN\")\n",
        "validacion(X_smoteen, y_smoteen,nv)"
      ]
    },
    {
      "cell_type": "code",
      "execution_count": null,
      "metadata": {
        "colab": {
          "base_uri": "https://localhost:8080/"
        },
        "id": "r8wUiNorlY9d",
        "outputId": "1c7980a9-654d-4b2c-85d3-c021656ddb1a"
      },
      "outputs": [
        {
          "output_type": "stream",
          "name": "stdout",
          "text": [
            "SMOTE\n",
            "MATRIZ DE CONFUSION\n",
            "[[7910 285 ] \n",
            " [7004 1310 ]]\n",
            "----------Medidas de rendimiento------------\n",
            "Accuracy 0.5584953661639107\n",
            "F1-Score 0.26434124982757934\n",
            "Presicion 0.8216883314556014\n",
            "Recall 0.15754149627134956\n",
            "TNR 0.9652226967663209\n",
            "-----------Reporte por clase-------------------\n",
            "         Presicion   Recall   F1-Score\n",
            "Clase 0:  0.530     0.965    0.685 \n",
            "Clase 1:  0.822     0.158    0.264 \n",
            "----------------------------------------\n",
            "Tiempo de entrenamiento: 1.0931756496429443 seg\n",
            "Tiempo de validacion: 0.08103299140930176 seg\n"
          ]
        }
      ],
      "source": [
        "print(\"SMOTE\")\n",
        "validacion(X_smote,y_smote,nv)"
      ]
    },
    {
      "cell_type": "markdown",
      "metadata": {
        "id": "eWYXO88eEecf"
      },
      "source": [
        "RED NEURONAL SIN BALANCEO DE DATOS"
      ]
    },
    {
      "cell_type": "code",
      "execution_count": null,
      "metadata": {
        "colab": {
          "base_uri": "https://localhost:8080/"
        },
        "id": "oYzWkP1iEl2O",
        "outputId": "cea24b63-b20b-4b20-f4ed-659f59124d28"
      },
      "outputs": [
        {
          "output_type": "stream",
          "name": "stdout",
          "text": [
            "MATRIZ DE CONFUSION\n",
            "[[2 343 ] \n",
            " [2 8312 ]]\n",
            "----------Medidas de rendimiento------------\n",
            "Accuracy 0.9602263540824575\n",
            "F1-Score 0.9797039231515485\n",
            "Presicion 0.9604150368378184\n",
            "Recall 0.999783497714698\n",
            "TNR 0.005797101449275362\n",
            "-----------Reporte por clase-------------------\n",
            "         Presicion   Recall   F1-Score\n",
            "Clase 0:  0.643     0.007    0.014 \n",
            "Clase 1:  0.960     1.000    0.980 \n",
            "----------------------------------------\n",
            "Tiempo de entrenamiento: 187.32965064048767 seg\n",
            "Tiempo de validacion: 16.264222621917725 seg\n"
          ]
        }
      ],
      "source": [
        "validacion(X,y,mlp)"
      ]
    },
    {
      "cell_type": "markdown",
      "metadata": {
        "id": "_utl7BcYEmtq"
      },
      "source": [
        "RED NEURONAL CON BALANCEO DE DATOS NEAR MISS, SMOTETomek, SMOTEENN, SMOTE"
      ]
    },
    {
      "cell_type": "code",
      "execution_count": null,
      "metadata": {
        "colab": {
          "base_uri": "https://localhost:8080/"
        },
        "id": "NEPgfMJNEl-Q",
        "outputId": "697ef1fe-1cb7-4bdd-83c8-708dfb6b3188"
      },
      "outputs": [
        {
          "output_type": "stream",
          "name": "stdout",
          "text": [
            "NEARMISS\n",
            "MATRIZ DE CONFUSION\n",
            "[[331 14 ] \n",
            " [6 684 ]]\n",
            "----------Medidas de rendimiento------------\n",
            "Accuracy 0.981256038647343\n",
            "F1-Score 0.9860304327587407\n",
            "Presicion 0.98013089990608\n",
            "Recall 0.9920289855072465\n",
            "TNR 0.9594202898550724\n",
            "-----------Reporte por clase-------------------\n",
            "         Presicion   Recall   F1-Score\n",
            "Clase 0:  0.984     0.960    0.972 \n",
            "Clase 1:  0.980     0.992    0.986 \n",
            "----------------------------------------\n",
            "Tiempo de entrenamiento: 48.76693820953369 seg\n",
            "Tiempo de validacion: 5.735718011856079 seg\n"
          ]
        }
      ],
      "source": [
        "print(\"NEARMISS\")\n",
        "validacion(X_near,y_near,mlp)"
      ]
    },
    {
      "cell_type": "code",
      "execution_count": null,
      "metadata": {
        "colab": {
          "base_uri": "https://localhost:8080/"
        },
        "id": "Zzm2wnDQE1vC",
        "outputId": "465d22ab-f9b0-4041-96c7-86a51f8eca76"
      },
      "outputs": [
        {
          "output_type": "stream",
          "name": "stdout",
          "text": [
            "SMOTETOMEK\n",
            "MATRIZ DE CONFUSION\n",
            "[[6765 1437 ] \n",
            " [2052 6150 ]]\n",
            "----------Medidas de rendimiento------------\n",
            "Accuracy 0.787289685442575\n",
            "F1-Score 0.7788059909505608\n",
            "Presicion 0.8109219669490677\n",
            "Recall 0.7498049256278957\n",
            "TNR 0.8247988295537674\n",
            "-----------Reporte por clase-------------------\n",
            "         Presicion   Recall   F1-Score\n",
            "Clase 0:  0.768     0.825    0.795 \n",
            "Clase 1:  0.811     0.750    0.779 \n",
            "----------------------------------------\n",
            "Tiempo de entrenamiento: 1552.51797580719 seg\n",
            "Tiempo de validacion: 147.72768759727478 seg\n"
          ]
        }
      ],
      "source": [
        "print(\"SMOTETOMEK\")\n",
        "validacion(X_stomek, y_smotek,mlp)"
      ]
    },
    {
      "cell_type": "code",
      "execution_count": null,
      "metadata": {
        "id": "FhLmswpKE1y5",
        "colab": {
          "base_uri": "https://localhost:8080/"
        },
        "outputId": "087b21e2-f4c1-4de7-ba71-5c9b559a9117"
      },
      "outputs": [
        {
          "output_type": "stream",
          "name": "stdout",
          "text": [
            "SMOTEENN\n",
            "MATRIZ DE CONFUSION\n",
            "[[4612 1433 ] \n",
            " [1020 6576 ]]\n",
            "----------Medidas de rendimiento------------\n",
            "Accuracy 0.8201304889670844\n",
            "F1-Score 0.8426609939266518\n",
            "Presicion 0.8216799043911628\n",
            "Recall 0.8656793048973144\n",
            "TNR 0.762944582299421\n",
            "-----------Reporte por clase-------------------\n",
            "         Presicion   Recall   F1-Score\n",
            "Clase 0:  0.820     0.763    0.790 \n",
            "Clase 1:  0.822     0.866    0.843 \n",
            "----------------------------------------\n",
            "Tiempo de entrenamiento: 1740.0144755840302 seg\n",
            "Tiempo de validacion: 225.89528489112854 seg\n"
          ]
        }
      ],
      "source": [
        "print(\"SMOTEENN\")\n",
        "validacion(X_smoteen, y_smoteen,mlp)"
      ]
    },
    {
      "cell_type": "code",
      "execution_count": null,
      "metadata": {
        "id": "kWfpWzOBljau",
        "colab": {
          "base_uri": "https://localhost:8080/"
        },
        "outputId": "7ecf5555-d897-4cd3-ee25-6662e5d214e6"
      },
      "outputs": [
        {
          "output_type": "stream",
          "name": "stdout",
          "text": [
            "SMOTE\n",
            "MATRIZ DE CONFUSION\n",
            "[[6832 1363 ] \n",
            " [2094 6220 ]]\n",
            "----------Medidas de rendimiento------------\n",
            "Accuracy 0.7905808952692469\n",
            "F1-Score 0.7823641190944041\n",
            "Presicion 0.821133818105157\n",
            "Recall 0.7480875631464998\n",
            "TNR 0.8336790726052471\n",
            "-----------Reporte por clase-------------------\n",
            "         Presicion   Recall   F1-Score\n",
            "Clase 0:  0.766     0.834    0.798 \n",
            "Clase 1:  0.821     0.748    0.782 \n",
            "----------------------------------------\n",
            "Tiempo de entrenamiento: 1957.657794713974 seg\n",
            "Tiempo de validacion: 204.57349681854248 seg\n"
          ]
        }
      ],
      "source": [
        "print(\"SMOTE\")\n",
        "validacion(X_smote,y_smote,mlp)"
      ]
    },
    {
      "cell_type": "markdown",
      "source": [
        "GRAFICA DE LOS TIEMPOS DE TRAIN Y TEST CON Y SIN BALANCEAR LOS DATOS"
      ],
      "metadata": {
        "id": "BhECCJeOQWuH"
      }
    },
    {
      "cell_type": "code",
      "source": [
        "#NBC, RL, RF, ANN\n",
        "SBL = [0.5203063488006592,  2.2585835456848145,   32.908077001571655,  187.32965064048767]\n",
        "NM =  [0.14359331130981445, 0.41817283630371094,  2.9628639221191406,  48.76693820953369]\n",
        "TOM = [1.1031808853149414,  6.286749601364136,    88.21419906616211,   1552.51797580719]\n",
        "ENN = [0.9063727855682373,  5.5805792808532715,   68.02326989173889,   1740.0144755840302]\n",
        "SMT = [1.0931756496429443, 6.475366830825806,     89.39718699455261,   1957.657794713974]\n",
        "\n",
        "plt.figure(figsize=(20,6))\n",
        "plt.title(\"TIEMPO DE EJECUCIÓN\")\n",
        "plt.subplot(1, 2, 1)\n",
        "y=[1,2,3,4]\n",
        "plt.yscale(\"log\")\n",
        "plt.ylabel(\"Tiempo train (seg)\")\n",
        "plt.xlabel(\"Clasificadores\")\n",
        "\n",
        "plt.plot(y,SBL, marker='o',color='m', label = \"Sin balanceo\")\n",
        "plt.plot(y,NM, marker='o', color='y', label = \"Near Miss\")\n",
        "plt.plot(y,TOM, marker='o', color='k', label = \"SMOTETomek\")\n",
        "plt.plot(y,ENN, marker='o', color='r', label = \"SMOTEENN\")\n",
        "plt.plot(y,SMT, marker='o', color='c', label = \"SMOTE\")\n",
        "plt.legend()\n",
        "\n",
        "plt.subplot(1, 2, 2)\n",
        "SBL1 =[0.0372161865234375,   0.21023344993591309,  3.5659313201904297,  16.264222621917725] \n",
        "NM1 = [0.011545658111572266, 0.036986589431762695, 0.32343125343322754, 5.735718011856079]\n",
        "TOM1 = [0.08082842826843262, 0.4210991859436035,   9.620742797851562,   147.72768759727478]\n",
        "ENN1= [0.0680856704711914 ,  0.32874441146850586,  7.483160018920898,   225.89528489112854]\n",
        "SMT1 = [0.08103299140930176, 0.397627115249633,    9.733158588409424,  204.57349681854248]\n",
        "\n",
        "plt.yscale(\"log\")\n",
        "plt.ylabel(\"Tiempo test (seg)\")\n",
        "plt.xlabel(\"Clasificadores\")\n",
        "\n",
        "plt.plot(y,SBL1, marker='o',color='m', label = \"Sin balanceo\")\n",
        "plt.plot(y,NM1, marker='o', color='y', label = \"Near Miss\")\n",
        "plt.plot(y,TOM1, marker='o', color='k', label = \"SMOTETomek\")\n",
        "plt.plot(y,ENN1, marker='o', color='r', label = \"SMOTEENN\")\n",
        "plt.plot(y,SMT1, marker='o', color='c', label = \"SMOTE\")\n",
        "plt.legend()\n",
        "\n",
        "plt.savefig('Tiempos.png')"
      ],
      "metadata": {
        "colab": {
          "base_uri": "https://localhost:8080/",
          "height": 387
        },
        "id": "TxbQ2o_tR_X3",
        "outputId": "4713786c-d567-49f7-a7df-89e5b9669be1"
      },
      "execution_count": null,
      "outputs": [
        {
          "output_type": "display_data",
          "data": {
            "image/png": "[encoded data removed]",
            "text/plain": [
              "<Figure size 1440x432 with 2 Axes>"
            ]
          },
          "metadata": {
            "needs_background": "light"
          }
        }
      ]
    },
    {
      "cell_type": "code",
      "source": [
        ""
      ],
      "metadata": {
        "id": "WNsPgZ5TeewJ"
      },
      "execution_count": null,
      "outputs": []
    }
  ],
  "metadata": {
    "colab": {
      "name": "Conjuntos_desbalanceados.ipynb",
      "provenance": [],
      "collapsed_sections": [],
      "authorship_tag": "ABX9TyNrYM+QcrvKpPQP8NCxV2CQ"
    },
    "kernelspec": {
      "display_name": "Python 3",
      "name": "python3"
    },
    "language_info": {
      "name": "python"
    }
  },
  "nbformat": 4,
  "nbformat_minor": 0
}