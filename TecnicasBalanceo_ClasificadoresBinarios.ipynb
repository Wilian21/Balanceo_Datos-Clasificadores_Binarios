{
  "cells": [
    {
      "cell_type": "markdown",
      "metadata": {
        "id": "view-in-github",
        "colab_type": "text"
      },
      "source": [
        "<a href=\"https://colab.research.google.com/github/Wilian21/Balanceo_Datos-Clasificadores_Binarios/blob/main/TecnicasBalanceo_ClasificadoresBinarios.ipynb\" target=\"_parent\"><img src=\"https://colab.research.google.com/assets/colab-badge.svg\" alt=\"Open In Colab\"/></a>"
      ]
    },
    {
      "cell_type": "markdown",
      "metadata": {
        "id": "qz9voApJv8hB"
      },
      "source": [
        "InstalaciOn libreria balanceo de datos"
      ]
    },
    {
      "cell_type": "code",
      "execution_count": null,
      "metadata": {
        "id": "BVCwMHILwAn2"
      },
      "outputs": [],
      "source": [
        "pip install -U imbalanced-learn"
      ]
    },
    {
      "cell_type": "code",
      "execution_count": null,
      "metadata": {
        "id": "YMTlMS2dv5Qe"
      },
      "outputs": [],
      "source": [
        "import pandas as pd\n",
        "import numpy as np\n",
        "from sklearn import metrics\n",
        "import time\n",
        "import matplotlib.pyplot as plt\n",
        "import seaborn as sns\n",
        "from sklearn.linear_model import LogisticRegression\n",
        "from sklearn.naive_bayes import GaussianNB\n",
        "from sklearn.neural_network import MLPClassifier\n",
        "from sklearn.metrics import classification_report\n",
        "from sklearn.metrics import confusion_matrix\n",
        "from sklearn.model_selection import cross_validate\n",
        "from sklearn.ensemble import RandomForestClassifier\n",
        "from sklearn.model_selection import StratifiedKFold\n",
        "from sklearn import preprocessing\n",
        "#---------------------\n",
        "from collections import Counter\n",
        "from imblearn.under_sampling import NearMiss\n",
        "from imblearn.combine import SMOTETomek\n",
        "from imblearn.combine import SMOTEENN \n",
        "from imblearn.over_sampling import SMOTE"
      ]
    },
    {
      "cell_type": "markdown",
      "metadata": {
        "id": "iEqj-Rm7v8Bn"
      },
      "source": [
        "LEER CSV"
      ]
    },
    {
      "cell_type": "code",
      "execution_count": null,
      "metadata": {
        "colab": {
          "base_uri": "https://localhost:8080/",
          "height": 206
        },
        "id": "6X-opYzywQHG",
        "outputId": "0744e58f-0759-45f2-fc71-a17c77497425"
      },
      "outputs": [
        {
          "output_type": "execute_result",
          "data": {
            "text/html": [
              "\n",
              "  <div id=\"df-244464ee-565e-44fb-9eff-6ff5cf11853c\">\n",
              "    <div class=\"colab-df-container\">\n",
              "      <div>\n",
              "<style scoped>\n",
              "    .dataframe tbody tr th:only-of-type {\n",
              "        vertical-align: middle;\n",
              "    }\n",
              "\n",
              "    .dataframe tbody tr th {\n",
              "        vertical-align: top;\n",
              "    }\n",
              "\n",
              "    .dataframe thead th {\n",
              "        text-align: right;\n",
              "    }\n",
              "</style>\n",
              "<table border=\"1\" class=\"dataframe\">\n",
              "  <thead>\n",
              "    <tr style=\"text-align: right;\">\n",
              "      <th></th>\n",
              "      <th>hash</th>\n",
              "      <th>size_of_data</th>\n",
              "      <th>virtual_address</th>\n",
              "      <th>entropy</th>\n",
              "      <th>virtual_size</th>\n",
              "      <th>malware</th>\n",
              "    </tr>\n",
              "  </thead>\n",
              "  <tbody>\n",
              "    <tr>\n",
              "      <th>0</th>\n",
              "      <td>071e8c3f8922e186e57548cd4c703a5d</td>\n",
              "      <td>443392</td>\n",
              "      <td>4096</td>\n",
              "      <td>6.529624</td>\n",
              "      <td>442984</td>\n",
              "      <td>1</td>\n",
              "    </tr>\n",
              "    <tr>\n",
              "      <th>1</th>\n",
              "      <td>33f8e6d08a6aae939f25a8e0d63dd523</td>\n",
              "      <td>331264</td>\n",
              "      <td>4096</td>\n",
              "      <td>6.604314</td>\n",
              "      <td>330784</td>\n",
              "      <td>1</td>\n",
              "    </tr>\n",
              "    <tr>\n",
              "      <th>2</th>\n",
              "      <td>b68abd064e975e1c6d5f25e748663076</td>\n",
              "      <td>74240</td>\n",
              "      <td>4096</td>\n",
              "      <td>6.046789</td>\n",
              "      <td>73819</td>\n",
              "      <td>1</td>\n",
              "    </tr>\n",
              "    <tr>\n",
              "      <th>3</th>\n",
              "      <td>72049be7bd30ea61297ea624ae198067</td>\n",
              "      <td>219648</td>\n",
              "      <td>4096</td>\n",
              "      <td>6.497018</td>\n",
              "      <td>219524</td>\n",
              "      <td>1</td>\n",
              "    </tr>\n",
              "    <tr>\n",
              "      <th>4</th>\n",
              "      <td>c9b3700a77facf29172f32df6bc77f48</td>\n",
              "      <td>262144</td>\n",
              "      <td>4096</td>\n",
              "      <td>6.638142</td>\n",
              "      <td>261943</td>\n",
              "      <td>1</td>\n",
              "    </tr>\n",
              "  </tbody>\n",
              "</table>\n",
              "</div>\n",
              "      <button class=\"colab-df-convert\" onclick=\"convertToInteractive('df-244464ee-565e-44fb-9eff-6ff5cf11853c')\"\n",
              "              title=\"Convert this dataframe to an interactive table.\"\n",
              "              style=\"display:none;\">\n",
              "        \n",
              "  <svg xmlns=\"http://www.w3.org/2000/svg\" height=\"24px\"viewBox=\"0 0 24 24\"\n",
              "       width=\"24px\">\n",
              "    <path d=\"M0 0h24v24H0V0z\" fill=\"none\"/>\n",
              "    <path d=\"M18.56 5.44l.94 2.06.94-2.06 2.06-.94-2.06-.94-.94-2.06-.94 2.06-2.06.94zm-11 1L8.5 8.5l.94-2.06 2.06-.94-2.06-.94L8.5 2.5l-.94 2.06-2.06.94zm10 10l.94 2.06.94-2.06 2.06-.94-2.06-.94-.94-2.06-.94 2.06-2.06.94z\"/><path d=\"M17.41 7.96l-1.37-1.37c-.4-.4-.92-.59-1.43-.59-.52 0-1.04.2-1.43.59L10.3 9.45l-7.72 7.72c-.78.78-.78 2.05 0 2.83L4 21.41c.39.39.9.59 1.41.59.51 0 1.02-.2 1.41-.59l7.78-7.78 2.81-2.81c.8-.78.8-2.07 0-2.86zM5.41 20L4 18.59l7.72-7.72 1.47 1.35L5.41 20z\"/>\n",
              "  </svg>\n",
              "      </button>\n",
              "      \n",
              "  <style>\n",
              "    .colab-df-container {\n",
              "      display:flex;\n",
              "      flex-wrap:wrap;\n",
              "      gap: 12px;\n",
              "    }\n",
              "\n",
              "    .colab-df-convert {\n",
              "      background-color: #E8F0FE;\n",
              "      border: none;\n",
              "      border-radius: 50%;\n",
              "      cursor: pointer;\n",
              "      display: none;\n",
              "      fill: #1967D2;\n",
              "      height: 32px;\n",
              "      padding: 0 0 0 0;\n",
              "      width: 32px;\n",
              "    }\n",
              "\n",
              "    .colab-df-convert:hover {\n",
              "      background-color: #E2EBFA;\n",
              "      box-shadow: 0px 1px 2px rgba(60, 64, 67, 0.3), 0px 1px 3px 1px rgba(60, 64, 67, 0.15);\n",
              "      fill: #174EA6;\n",
              "    }\n",
              "\n",
              "    [theme=dark] .colab-df-convert {\n",
              "      background-color: #3B4455;\n",
              "      fill: #D2E3FC;\n",
              "    }\n",
              "\n",
              "    [theme=dark] .colab-df-convert:hover {\n",
              "      background-color: #434B5C;\n",
              "      box-shadow: 0px 1px 3px 1px rgba(0, 0, 0, 0.15);\n",
              "      filter: drop-shadow(0px 1px 2px rgba(0, 0, 0, 0.3));\n",
              "      fill: #FFFFFF;\n",
              "    }\n",
              "  </style>\n",
              "\n",
              "      <script>\n",
              "        const buttonEl =\n",
              "          document.querySelector('#df-244464ee-565e-44fb-9eff-6ff5cf11853c button.colab-df-convert');\n",
              "        buttonEl.style.display =\n",
              "          google.colab.kernel.accessAllowed ? 'block' : 'none';\n",
              "\n",
              "        async function convertToInteractive(key) {\n",
              "          const element = document.querySelector('#df-244464ee-565e-44fb-9eff-6ff5cf11853c');\n",
              "          const dataTable =\n",
              "            await google.colab.kernel.invokeFunction('convertToInteractive',\n",
              "                                                     [key], {});\n",
              "          if (!dataTable) return;\n",
              "\n",
              "          const docLinkHtml = 'Like what you see? Visit the ' +\n",
              "            '<a target=\"_blank\" href=https://colab.research.google.com/notebooks/data_table.ipynb>data table notebook</a>'\n",
              "            + ' to learn more about interactive tables.';\n",
              "          element.innerHTML = '';\n",
              "          dataTable['output_type'] = 'display_data';\n",
              "          await google.colab.output.renderOutput(dataTable, element);\n",
              "          const docLink = document.createElement('div');\n",
              "          docLink.innerHTML = docLinkHtml;\n",
              "          element.appendChild(docLink);\n",
              "        }\n",
              "      </script>\n",
              "    </div>\n",
              "  </div>\n",
              "  "
            ],
            "text/plain": [
              "                               hash  size_of_data  ...  virtual_size  malware\n",
              "0  071e8c3f8922e186e57548cd4c703a5d        443392  ...        442984        1\n",
              "1  33f8e6d08a6aae939f25a8e0d63dd523        331264  ...        330784        1\n",
              "2  b68abd064e975e1c6d5f25e748663076         74240  ...         73819        1\n",
              "3  72049be7bd30ea61297ea624ae198067        219648  ...        219524        1\n",
              "4  c9b3700a77facf29172f32df6bc77f48        262144  ...        261943        1\n",
              "\n",
              "[5 rows x 6 columns]"
            ]
          },
          "metadata": {},
          "execution_count": 2
        }
      ],
      "source": [
        "df = pd.read_csv(\"pe_section_headers.csv\")\n",
        "df.head(5)"
      ]
    },
    {
      "cell_type": "code",
      "execution_count": null,
      "metadata": {
        "colab": {
          "base_uri": "https://localhost:8080/"
        },
        "id": "7bnqqI6FwQTL",
        "outputId": "8e81a2b3-b93e-4996-bb93-d9dfd42dba0d"
      },
      "outputs": [
        {
          "output_type": "execute_result",
          "data": {
            "text/plain": [
              "(43293, 5)"
            ]
          },
          "metadata": {},
          "execution_count": 3
        }
      ],
      "source": [
        "#Eliminar la columna hash\n",
        "data= df.drop(['hash'],axis=1)\n",
        "data.head()\n",
        "data.shape"
      ]
    },
    {
      "cell_type": "code",
      "execution_count": null,
      "metadata": {
        "colab": {
          "base_uri": "https://localhost:8080/"
        },
        "id": "femm2mCBwQV_",
        "outputId": "e768c4d6-ea1f-41e4-c452-2d3139868952"
      },
      "outputs": [
        {
          "output_type": "stream",
          "name": "stdout",
          "text": [
            "<class 'pandas.core.frame.DataFrame'>\n",
            "RangeIndex: 43293 entries, 0 to 43292\n",
            "Data columns (total 5 columns):\n",
            " #   Column           Non-Null Count  Dtype  \n",
            "---  ------           --------------  -----  \n",
            " 0   size_of_data     43293 non-null  int64  \n",
            " 1   virtual_address  43293 non-null  int64  \n",
            " 2   entropy          43293 non-null  float64\n",
            " 3   virtual_size     43293 non-null  int64  \n",
            " 4   malware          43293 non-null  int64  \n",
            "dtypes: float64(1), int64(4)\n",
            "memory usage: 1.7 MB\n"
          ]
        }
      ],
      "source": [
        "#Verificar que los datos sean numericos\n",
        "data.info()"
      ]
    },
    {
      "cell_type": "code",
      "execution_count": null,
      "metadata": {
        "colab": {
          "base_uri": "https://localhost:8080/"
        },
        "id": "RY7M6MDswQZX",
        "outputId": "f416a8c0-1afc-4472-8b3a-aefe4d0a1279"
      },
      "outputs": [
        {
          "output_type": "execute_result",
          "data": {
            "text/plain": [
              "size_of_data       0\n",
              "virtual_address    0\n",
              "entropy            0\n",
              "virtual_size       0\n",
              "malware            0\n",
              "dtype: int64"
            ]
          },
          "metadata": {},
          "execution_count": 5
        }
      ],
      "source": [
        "#Ver si existen datos faltantes\n",
        "data.isna().sum().sort_values()"
      ]
    },
    {
      "cell_type": "code",
      "execution_count": null,
      "metadata": {
        "colab": {
          "base_uri": "https://localhost:8080/"
        },
        "id": "97YQDVsKwaML",
        "outputId": "57eb0cb9-736a-446c-ce6b-b5cbb96f1ce1"
      },
      "outputs": [
        {
          "output_type": "stream",
          "name": "stdout",
          "text": [
            "(43293, 5)\n"
          ]
        }
      ],
      "source": [
        "data.drop_duplicates()\n",
        "print(data.shape)"
      ]
    },
    {
      "cell_type": "markdown",
      "metadata": {
        "id": "tmosKsL4wgUe"
      },
      "source": [
        "NUMERO DE OBSERVACIONES BINARIAS"
      ]
    },
    {
      "cell_type": "code",
      "execution_count": null,
      "metadata": {
        "colab": {
          "base_uri": "https://localhost:8080/"
        },
        "id": "jnHfKdOGwaSi",
        "outputId": "8091afc7-2ebf-482e-837e-0a7be4907b22"
      },
      "outputs": [
        {
          "output_type": "stream",
          "name": "stdout",
          "text": [
            "malware\n",
            "0     1725\n",
            "1    41568\n",
            "dtype: int64\n"
          ]
        }
      ],
      "source": [
        "#Ver cuantas clases existe en el dataset\n",
        "print(data.groupby('malware').size())"
      ]
    },
    {
      "cell_type": "code",
      "execution_count": null,
      "metadata": {
        "colab": {
          "base_uri": "https://localhost:8080/",
          "height": 294
        },
        "id": "yUxivNtWwpG8",
        "outputId": "e49a5f8b-cc03-4627-a847-49e183e5d404"
      },
      "outputs": [
        {
          "data": {
            "image/png": "[encoded data removed]",
            "text/plain": [
              "<Figure size 432x288 with 1 Axes>"
            ]
          },
          "metadata": {},
          "output_type": "display_data"
        }
      ],
      "source": [
        "count_classes = data.value_counts(data['malware'], sort = True)\n",
        "count_classes.plot(kind = 'bar',rot=0, color=\"c\")\n",
        "plt.title(\"Número de observaciones por clase\")\n",
        "plt.xlabel(\"Clases\")\n",
        "plt.ylabel(\"Número de observaciones\")\n",
        "plt.show()"
      ]
    },
    {
      "cell_type": "markdown",
      "metadata": {
        "id": "-CgZrIZiwuTE"
      },
      "source": [
        "DIVIDIR EL DATASET EN X, Y"
      ]
    },
    {
      "cell_type": "code",
      "execution_count": null,
      "metadata": {
        "colab": {
          "base_uri": "https://localhost:8080/"
        },
        "id": "UfG6pxAowpOp",
        "outputId": "10984152-d97a-440b-f445-bba25b36dc35"
      },
      "outputs": [
        {
          "output_type": "stream",
          "name": "stdout",
          "text": [
            "(43293, 4)\n",
            "(43293,)\n"
          ]
        }
      ],
      "source": [
        "#Division del dataset X los atributos\n",
        "#Y las clases\n",
        "#X= data[['size_of_data','virtual_address','entropy','virtual_size']]\n",
        "X=data.iloc[:,:-1]\n",
        "y = data['malware']\n",
        "\n",
        "print(X.shape)\n",
        "print(y.shape)"
      ]
    },
    {
      "cell_type": "code",
      "execution_count": null,
      "metadata": {
        "colab": {
          "base_uri": "https://localhost:8080/"
        },
        "id": "kluCQuhRczP1",
        "outputId": "f28e3e10-6967-4057-bdfb-1b9dbbee6ec3"
      },
      "outputs": [
        {
          "output_type": "stream",
          "name": "stdout",
          "text": [
            "[[-1.65823308e-01 -4.70320638e-02  1.60502208e-01 -1.69751884e-01]\n",
            " [-2.61375786e-01 -4.70320638e-02  2.42860621e-01 -2.64214120e-01]\n",
            " [-4.80404753e-01 -4.70320638e-02 -3.71902961e-01 -4.80555372e-01]\n",
            " ...\n",
            " [-3.20277998e-01 -4.70320638e-02  2.80161311e-01 -3.22172006e-01]\n",
            " [-1.65823308e-01 -4.70320638e-02  1.60502208e-01 -1.69751884e-01]\n",
            " [ 1.41340821e-01 -4.70320638e-02  1.47659537e-04  1.33833915e-01]]\n"
          ]
        }
      ],
      "source": [
        "X = preprocessing.StandardScaler().fit(X).transform(X)\n",
        "print(X)"
      ]
    },
    {
      "cell_type": "markdown",
      "metadata": {
        "id": "MEeQOGzdwzsT"
      },
      "source": [
        "CREACION DE STRATIFIEDKFOLD"
      ]
    },
    {
      "cell_type": "code",
      "execution_count": null,
      "metadata": {
        "colab": {
          "base_uri": "https://localhost:8080/"
        },
        "id": "0vGEOapfwpUo",
        "outputId": "0ba71072-1013-492a-f43a-2cfea81aec45"
      },
      "outputs": [
        {
          "output_type": "stream",
          "name": "stdout",
          "text": [
            "TRAIN: [34072 40279 16011 ...  1171 22513 38030] TEST: [19225  6827  4238 ... 25375 10649 16852]\n",
            "TRAIN: [ 6618 42552 16821 ...  1870 42818 18311] TEST: [40715 20005 34129 ...  1448  2420 29243]\n",
            "TRAIN: [25462 33804 15970 ... 19314 35889  7785] TEST: [38809 16663  2327 ... 37938 37744  3712]\n",
            "TRAIN: [30016  9175 42157 ... 12900  4121 33559] TEST: [20934 28990 25610 ... 21764 28240 43259]\n",
            "TRAIN: [ 1374 19235 27110 ... 38167 10236 29862] TEST: [16810  9522 30501 ... 10519  4746 28951]\n",
            "TRAIN: [19205 22810 25702 ... 17546  8041 11751] TEST: [  637 24775 26677 ... 16560  7929 32446]\n",
            "TRAIN: [13826 27555 23867 ...   259  3616  3636] TEST: [25121   100    61 ... 32098 26971 32881]\n",
            "TRAIN: [19633 15363 33505 ...  8777  7360 27960] TEST: [37868  6620 34426 ... 34494 11173 23282]\n",
            "TRAIN: [14900  1239 21995 ... 34785  2314 32705] TEST: [41143 32622 13873 ... 36195  5054 26712]\n",
            "TRAIN: [ 7123   902 33482 ... 18604 24099 23539] TEST: [11709 26984 25513 ... 13080 25771  9718]\n"
          ]
        }
      ],
      "source": [
        "from sklearn.model_selection import StratifiedShuffleSplit\n",
        "kf=StratifiedShuffleSplit(n_splits=10, train_size=0.8, random_state=None)\n",
        "\n",
        "for train_index, test_index in kf.split(X, y):\n",
        "  print(\"TRAIN:\", train_index, \"TEST:\", test_index)\n",
        "  X_train, X_test = X[train_index], X[test_index]\n",
        "  y_train, y_test = y.iloc[train_index], y.iloc[test_index]\n"
      ]
    },
    {
      "cell_type": "markdown",
      "metadata": {
        "id": "n0IpRfHTw7da"
      },
      "source": [
        "CREACION DE ALGORITMOS"
      ]
    },
    {
      "cell_type": "code",
      "execution_count": null,
      "metadata": {
        "id": "BPf4p9tiw9kK"
      },
      "outputs": [],
      "source": [
        "########### REGRESION LOGISTICA ##############\n",
        "rl = LogisticRegression(penalty='l2', dual=False, tol=0.0001,class_weight='balanced', solver='lbfgs',\n",
        "                        multi_class='ovr')\n",
        "\n",
        "#class_weight='balanced', \n",
        "rlB = LogisticRegression(penalty='l2', dual=False, tol=0.0001,solver='lbfgs', multi_class='ovr')\n",
        "\n",
        "########### RANDOM FOREST ##############\n",
        "rf = RandomForestClassifier(n_estimators=100,bootstrap = True, criterion = 'gini')\n",
        "\n",
        "########### RED NEURONAL ##############\n",
        "\n",
        "mlp =MLPClassifier(hidden_layer_sizes = (100),activation='relu', solver='adam',alpha=0.0001,max_iter=2000)\n",
        "\n",
        "########### NAIVE BAYES ##############\n",
        "nv=GaussianNB(priors = None , var_smoothing = 1e-09)\n"
      ]
    },
    {
      "cell_type": "markdown",
      "metadata": {
        "id": "rd7_CTTj1Lsa"
      },
      "source": [
        "TECNICAS DE BALANCEO DE DATOS"
      ]
    },
    {
      "cell_type": "code",
      "execution_count": null,
      "metadata": {
        "colab": {
          "base_uri": "https://localhost:8080/"
        },
        "id": "YNmVeDYG1KKp",
        "outputId": "df014f2d-b91a-408c-a9da-f196657fdd70"
      },
      "outputs": [
        {
          "output_type": "stream",
          "name": "stdout",
          "text": [
            "Distribucion de clases antes del balanceo Counter({1: 41568, 0: 1725})\n",
            "Distribucion de clases despues del balanceo Counter({1: 41020, 0: 41020})\n"
          ]
        }
      ],
      "source": [
        "#SMOTETOMEK\n",
        "stomek = SMOTETomek(sampling_strategy='auto',random_state= None, smote=None,tomek=None)\n",
        "X_stomek, y_smotek = stomek.fit_resample(X, y)\n",
        "print (\"Distribucion de clases antes del balanceo {}\".format(Counter(y)))\n",
        "print (\"Distribucion de clases despues del balanceo {}\".format(Counter(y_smotek)))\n"
      ]
    },
    {
      "cell_type": "code",
      "execution_count": null,
      "metadata": {
        "colab": {
          "base_uri": "https://localhost:8080/"
        },
        "id": "7FnnjRWl9j6n",
        "outputId": "bcad6078-1ac8-4c54-aa8a-d6e9e2e1f48f"
      },
      "outputs": [
        {
          "output_type": "stream",
          "name": "stdout",
          "text": [
            "Distribucion de clases antes del balanceo Counter({1: 41568, 0: 1725})\n",
            "Distribucion de clases despues del balanceo Counter({1: 3450, 0: 1725})\n"
          ]
        }
      ],
      "source": [
        "#NEARMISS\n",
        "near = NearMiss(sampling_strategy= 0.5, version=2, n_neighbors=3,n_neighbors_ver3=3)\n",
        "X_near, y_near= near.fit_resample(X, y)\n",
        "print (\"Distribucion de clases antes del balanceo {}\".format(Counter(y)))\n",
        "print (\"Distribucion de clases despues del balanceo {}\".format(Counter(y_near)))\n"
      ]
    },
    {
      "cell_type": "code",
      "execution_count": null,
      "metadata": {
        "colab": {
          "base_uri": "https://localhost:8080/"
        },
        "id": "hse1TFrF9mbQ",
        "outputId": "7432d136-30fe-4bbf-e727-348e9ae08e5b"
      },
      "outputs": [
        {
          "output_type": "stream",
          "name": "stdout",
          "text": [
            "Distribucion de clases antes del balanceo Counter({1: 41568, 0: 1725})\n",
            "Distribucion de clases despues del balanceo Counter({1: 37985, 0: 30458})\n"
          ]
        }
      ],
      "source": [
        "#SMOTEEN\n",
        "smoteen = SMOTEENN(sampling_strategy='auto',random_state=None, smote=None, enn=None)\n",
        "X_smoteen, y_smoteen = smoteen.fit_resample(X, y)\n",
        "\n",
        "print (\"Distribucion de clases antes del balanceo {}\".format(Counter(y)))\n",
        "print (\"Distribucion de clases despues del balanceo {}\".format(Counter(y_smoteen)))\n"
      ]
    },
    {
      "cell_type": "code",
      "execution_count": null,
      "metadata": {
        "colab": {
          "base_uri": "https://localhost:8080/"
        },
        "id": "ETWW54KvkrRP",
        "outputId": "696ac26e-659d-47a2-ba85-26d89ce83673"
      },
      "outputs": [
        {
          "output_type": "stream",
          "name": "stdout",
          "text": [
            "Distribucion de clases antes del balanceo Counter({1: 41568, 0: 1725})\n",
            "Distribucion de clases despues del balanceo Counter({1: 41568, 0: 40977})\n"
          ]
        }
      ],
      "source": [
        "#SMOTE\n",
        "smote = SMOTE(sampling_strategy=0.9858,random_state=None, k_neighbors=5)\n",
        "X_smote, y_smote = smote.fit_resample(X, y)\n",
        "\n",
        "print (\"Distribucion de clases antes del balanceo {}\".format(Counter(y)))\n",
        "print (\"Distribucion de clases despues del balanceo {}\".format(Counter(y_smote)))"
      ]
    },
    {
      "cell_type": "markdown",
      "metadata": {
        "id": "jRJ9p6KjHGBb"
      },
      "source": [
        "FUNCION DE VALIDACION CRUZADA"
      ]
    },
    {
      "cell_type": "code",
      "execution_count": null,
      "metadata": {
        "id": "b-CZtTBL15SF"
      },
      "outputs": [],
      "source": [
        "def validacion(entrenamiento,prueba,modelo):\n",
        "  start = time.time()\n",
        "  TN=[]\n",
        "  FP=[]\n",
        "  FN=[]\n",
        "  TP=[]\n",
        "  ac=[]\n",
        "  fs=[]\n",
        "  pre=[]\n",
        "  re=[]\n",
        "  pr0=[]\n",
        "  re0=[]\n",
        "  f10=[]\n",
        "  pr1=[]\n",
        "  re1=[]\n",
        "  f11=[]\n",
        "  for train, test in kf.split(entrenamiento,prueba):\n",
        "    X_train, X_test = entrenamiento[train], entrenamiento[test]\n",
        "    end = time.time()\n",
        "    start1=time.time()\n",
        "    y_train, y_test = prueba.iloc[train], prueba.iloc[test]\n",
        "    modelo.fit(X_train,y_train)\n",
        "    y_pred = modelo.predict(X_test)\n",
        "    #print(y_pred)\n",
        "    conf = confusion_matrix(y_test,y_pred)\n",
        "    TN.append(conf[0,0])\n",
        "    FP.append(conf[0,1])\n",
        "    FN.append(conf[1,0])\n",
        "    TP.append(conf[1,1])\n",
        "    accy = metrics.accuracy_score(y_test, y_pred)\n",
        "    ac.append(accy)\n",
        "    f1= metrics.f1_score(y_test, y_pred)\n",
        "    fs.append(f1)\n",
        "    presi = metrics.precision_score(y_test, y_pred)\n",
        "    pre.append(presi)\n",
        "    reca = metrics.recall_score(y_test, y_pred)\n",
        "    re.append(reca)\n",
        "    #print(accy,\"---\",f1,\"---\",presi,\"---\",reca)\n",
        "    #print(\"MatrizConfusion\")\n",
        "    #print(\"----------------- SPLIT {} ----------------------\".format(cont))\n",
        "    #print(conf)\n",
        "    a=classification_report(y_test,y_pred,output_dict=True)\n",
        "    l0 = ['0',\"precision\", \"recall\", \"f1-score\"]\n",
        "    l1=['1',\"precision\", \"recall\", \"f1-score\"]\n",
        "    result = list(map(a.get, l0))\n",
        "    result1= list(map(a.get,l1))\n",
        "    #print(result)\n",
        "    pr0.append(result[0]['precision'])\n",
        "    re0.append(result[0]['recall'])\n",
        "    f10.append(result[0]['f1-score'])\n",
        "    pr1.append(result1[0]['precision'])\n",
        "    re1.append(result1[0]['recall'])\n",
        "    f11.append(result1[0]['f1-score'])\n",
        "    end1=time.time()\n",
        "\n",
        "  \n",
        "  print(\"MATRIZ DE CONFUSION\")\n",
        "  print('[[{} {} ] '.format(round(np.mean(TN)),(round(np.mean(FP)))))\n",
        "  print(' [{} {} ]]'.format(round(np.mean(FN)),(round(np.mean(TP)))))\n",
        "  print(\"----------Medidas de rendimiento------------\")\n",
        "  print('Accuracy {}'.format(np.mean(ac)))   \n",
        "  print('F1-Score {}'.format(np.mean(fs)))\n",
        "  print('Presicion {}'.format(np.mean(pre)))\n",
        "  print('Recall {}'.format(np.mean(re)))\n",
        "  TNF=round(np.mean(TN))/(round(np.mean(TN)) + round(np.mean(FN)))\n",
        "  print('TNR {}'.format(TNF))\n",
        "\n",
        "  print(\"-----------Reporte por clase-------------------\")\n",
        "  print(\"         Presicion   Recall   F1-Score\")\n",
        "  print('Clase 0:  {:.3f}     {:.3f}    {:.3f} '.format(np.mean(pr0),np.mean(re0),np.mean(f10)))\n",
        "  print('Clase 1:  {:.3f}     {:.3f}    {:.3f} '.format(np.mean(pr1),np.mean(re1),np.mean(f11)))\n",
        "  print(\"----------------------------------------\")\n",
        "  print(\"Tiempo de entrenamiento:\", end - start,\"seg\")\n",
        "  print(\"Tiempo de validacion:\", end1 - start1,\"seg\")"
      ]
    },
    {
      "cell_type": "markdown",
      "metadata": {
        "id": "5upGZ4ox99Og"
      },
      "source": [
        "REGRESION LOGISTICA SIN BALANCEO DE DATOS"
      ]
    },
    {
      "cell_type": "code",
      "execution_count": null,
      "metadata": {
        "colab": {
          "base_uri": "https://localhost:8080/"
        },
        "id": "emfNB-4Ew9qT",
        "outputId": "8a41b624-daf0-4e72-d543-5cb48eac33a6"
      },
      "outputs": [
        {
          "output_type": "stream",
          "name": "stdout",
          "text": [
            "MATRIZ DE CONFUSION\n",
            "[[185 160 ] \n",
            " [2213 6101 ]]\n",
            "----------Medidas de rendimiento------------\n",
            "Accuracy 0.7259614274165609\n",
            "F1-Score 0.8370029089395403\n",
            "Presicion 0.9744792660318362\n",
            "Recall 0.7337984123165745\n",
            "TNR 0.07714762301918265\n",
            "-----------Reporte por clase-------------------\n",
            "         Presicion   Recall   F1-Score\n",
            "Clase 0:  0.078     0.537    0.136 \n",
            "Clase 1:  0.974     0.734    0.837 \n",
            "----------------------------------------\n",
            "Tiempo de entrenamiento: 2.3061771392822266 seg\n",
            "Tiempo de validacion: 0.2043156623840332 seg\n"
          ]
        }
      ],
      "source": [
        "#REGRESION LOGISTICA SIN BALANCEO DE DATOS\n",
        "validacion(X,y,rl)"
      ]
    },
    {
      "cell_type": "markdown",
      "metadata": {
        "id": "YVkGHfiw_E9d"
      },
      "source": [
        "REGRESION LOGISTICA CON BALANCEO DE DATOS"
      ]
    },
    {
      "cell_type": "code",
      "execution_count": null,
      "metadata": {
        "colab": {
          "base_uri": "https://localhost:8080/"
        },
        "id": "jfcEbKjuw9zz",
        "outputId": "f19554ba-c7ef-4f1a-c944-d6df280117d0"
      },
      "outputs": [
        {
          "output_type": "stream",
          "name": "stdout",
          "text": [
            "NEARMISS\n",
            "MATRIZ DE CONFUSION\n",
            "[[313 32 ] \n",
            " [0 690 ]]\n",
            "----------Medidas de rendimiento------------\n",
            "Accuracy 0.9693719806763283\n",
            "F1-Score 0.9775669679573358\n",
            "Presicion 0.9561588425139774\n",
            "Recall 1.0\n",
            "TNR 1.0\n",
            "-----------Reporte por clase-------------------\n",
            "         Presicion   Recall   F1-Score\n",
            "Clase 0:  1.000     0.908    0.952 \n",
            "Clase 1:  0.956     1.000    0.978 \n",
            "----------------------------------------\n",
            "Tiempo de entrenamiento: 0.4541919231414795 seg\n",
            "Tiempo de validacion: 0.04169130325317383 seg\n"
          ]
        }
      ],
      "source": [
        "#REGRESION LOGISTICA CON BALANCEO DE DATOS \n",
        "print(\"NEARMISS\")\n",
        "validacion(X_near,y_near,rlB)"
      ]
    },
    {
      "cell_type": "code",
      "execution_count": null,
      "metadata": {
        "colab": {
          "base_uri": "https://localhost:8080/"
        },
        "id": "CUPbXuj__CaD",
        "outputId": "b098da20-9340-4a49-dc6e-be718eeeb7a7"
      },
      "outputs": [
        {
          "output_type": "stream",
          "name": "stdout",
          "text": [
            "SMOTETOMEK\n",
            "MATRIZ DE CONFUSION\n",
            "[[4734 3470 ] \n",
            " [2387 5817 ]]\n",
            "----------Medidas de rendimiento------------\n",
            "Accuracy 0.6430521696733301\n",
            "F1-Score 0.6650280442755957\n",
            "Presicion 0.6262640869703576\n",
            "Recall 0.7090321794246709\n",
            "TNR 0.664794270467631\n",
            "-----------Reporte por clase-------------------\n",
            "         Presicion   Recall   F1-Score\n",
            "Clase 0:  0.665     0.577    0.618 \n",
            "Clase 1:  0.626     0.709    0.665 \n",
            "----------------------------------------\n",
            "Tiempo de entrenamiento: 6.169559478759766 seg\n",
            "Tiempo de validacion: 0.4159972667694092 seg\n"
          ]
        }
      ],
      "source": [
        "print(\"SMOTETOMEK\")\n",
        "validacion(X_stomek, y_smotek,rlB)"
      ]
    },
    {
      "cell_type": "code",
      "execution_count": null,
      "metadata": {
        "colab": {
          "base_uri": "https://localhost:8080/"
        },
        "id": "qCME6q-E_Nt0",
        "outputId": "5c272737-54ae-41e2-cca0-7ee155a713f0"
      },
      "outputs": [
        {
          "output_type": "stream",
          "name": "stdout",
          "text": [
            "SMOTEENN\n",
            "MATRIZ DE CONFUSION\n",
            "[[375 5717 ] \n",
            " [600 6996 ]]\n",
            "----------Medidas de rendimiento------------\n",
            "Accuracy 0.5385126744101103\n",
            "F1-Score 0.6889600838283492\n",
            "Presicion 0.550329821854156\n",
            "Recall 0.9209556403843623\n",
            "TNR 0.38461538461538464\n",
            "-----------Reporte por clase-------------------\n",
            "         Presicion   Recall   F1-Score\n",
            "Clase 0:  0.384     0.062    0.106 \n",
            "Clase 1:  0.550     0.921    0.689 \n",
            "----------------------------------------\n",
            "Tiempo de entrenamiento: 5.535931825637817 seg\n",
            "Tiempo de validacion: 0.8319168090820312 seg\n"
          ]
        }
      ],
      "source": [
        "print(\"SMOTEENN\")\n",
        "validacion(X_smoteen, y_smoteen,rlB)"
      ]
    },
    {
      "cell_type": "code",
      "execution_count": null,
      "metadata": {
        "colab": {
          "base_uri": "https://localhost:8080/"
        },
        "id": "lQsm2w0Ek9g-",
        "outputId": "4ced92f9-e331-435f-e3ca-b9b899f49695"
      },
      "outputs": [
        {
          "output_type": "stream",
          "name": "stdout",
          "text": [
            "SMOTE\n",
            "MATRIZ DE CONFUSION\n",
            "[[3894 4300 ] \n",
            " [1516 6798 ]]\n",
            "----------Medidas de rendimiento------------\n",
            "Accuracy 0.6476770246532195\n",
            "F1-Score 0.7003697090607345\n",
            "Presicion 0.6125224990671655\n",
            "Recall 0.8176569641568439\n",
            "TNR 0.7197781885397412\n",
            "-----------Reporte por clase-------------------\n",
            "         Presicion   Recall   F1-Score\n",
            "Clase 0:  0.720     0.475    0.572 \n",
            "Clase 1:  0.613     0.818    0.700 \n",
            "----------------------------------------\n",
            "Tiempo de entrenamiento: 6.068886041641235 seg\n",
            "Tiempo de validacion: 0.8094577789306641 seg\n"
          ]
        }
      ],
      "source": [
        "print(\"SMOTE\")\n",
        "validacion(X_smote,y_smote,rlB)"
      ]
    },
    {
      "cell_type": "markdown",
      "metadata": {
        "id": "keBdpkDu_XgJ"
      },
      "source": [
        "RANDOM FOREST SIN BALANCEO DE DATOS"
      ]
    },
    {
      "cell_type": "code",
      "execution_count": null,
      "metadata": {
        "colab": {
          "base_uri": "https://localhost:8080/"
        },
        "id": "J4HdVFmfDQzu",
        "outputId": "920e2033-8511-40ca-8bf8-d78659545820"
      },
      "outputs": [
        {
          "output_type": "stream",
          "name": "stdout",
          "text": [
            "MATRIZ DE CONFUSION\n",
            "[[155 190 ] \n",
            " [82 8232 ]]\n",
            "----------Medidas de rendimiento------------\n",
            "Accuracy 0.9685875967201755\n",
            "F1-Score 0.9837481960188924\n",
            "Presicion 0.9774067204222809\n",
            "Recall 0.9901732018282414\n",
            "TNR 0.6540084388185654\n",
            "-----------Reporte por clase-------------------\n",
            "         Presicion   Recall   F1-Score\n",
            "Clase 0:  0.655     0.448    0.532 \n",
            "Clase 1:  0.977     0.990    0.984 \n",
            "----------------------------------------\n",
            "Tiempo de entrenamiento: 33.016489028930664 seg\n",
            "Tiempo de validacion: 3.5122363567352295 seg\n"
          ]
        }
      ],
      "source": [
        "validacion(X,y,rf)"
      ]
    },
    {
      "cell_type": "markdown",
      "metadata": {
        "id": "9RSEf_4ADTqL"
      },
      "source": [
        "RANDOM FOREST CON BALANCEO DE DATOS"
      ]
    },
    {
      "cell_type": "code",
      "execution_count": null,
      "metadata": {
        "colab": {
          "base_uri": "https://localhost:8080/"
        },
        "id": "ar8PgASyDW29",
        "outputId": "30ffdf28-78d6-402d-c542-af592b7ab062"
      },
      "outputs": [
        {
          "output_type": "stream",
          "name": "stdout",
          "text": [
            "NEARMISS\n",
            "MATRIZ DE CONFUSION\n",
            "[[336 8 ] \n",
            " [6 684 ]]\n",
            "----------Medidas de rendimiento------------\n",
            "Accuracy 0.9858937198067632\n",
            "F1-Score 0.9894428279350317\n",
            "Presicion 0.9877477137978833\n",
            "Recall 0.991159420289855\n",
            "TNR 0.9824561403508771\n",
            "-----------Reporte por clase-------------------\n",
            "         Presicion   Recall   F1-Score\n",
            "Clase 0:  0.982     0.975    0.979 \n",
            "Clase 1:  0.988     0.991    0.989 \n",
            "----------------------------------------\n",
            "Tiempo de entrenamiento: 2.993788957595825 seg\n",
            "Tiempo de validacion: 0.3280777931213379 seg\n"
          ]
        }
      ],
      "source": [
        "print(\"NEARMISS\")\n",
        "validacion(X_near,y_near,rf)"
      ]
    },
    {
      "cell_type": "code",
      "execution_count": null,
      "metadata": {
        "colab": {
          "base_uri": "https://localhost:8080/"
        },
        "id": "oDWbpmVzDW--",
        "outputId": "ad8f1818-a84d-4f3c-b0e8-e94833814991"
      },
      "outputs": [
        {
          "output_type": "stream",
          "name": "stdout",
          "text": [
            "SMOTETOMEK\n",
            "MATRIZ DE CONFUSION\n",
            "[[8040 164 ] \n",
            " [341 7863 ]]\n",
            "----------Medidas de rendimiento------------\n",
            "Accuracy 0.9692162359824475\n",
            "F1-Score 0.9688811504177434\n",
            "Presicion 0.9795472436247212\n",
            "Recall 0.9584470989761094\n",
            "TNR 0.9593127311776638\n",
            "-----------Reporte por clase-------------------\n",
            "         Presicion   Recall   F1-Score\n",
            "Clase 0:  0.959     0.980    0.970 \n",
            "Clase 1:  0.980     0.958    0.969 \n",
            "----------------------------------------\n",
            "Tiempo de entrenamiento: 89.50035214424133 seg\n",
            "Tiempo de validacion: 9.83968472480774 seg\n"
          ]
        }
      ],
      "source": [
        "print(\"SMOTETOMEK\")\n",
        "validacion(X_stomek, y_smotek,rf)"
      ]
    },
    {
      "cell_type": "code",
      "execution_count": null,
      "metadata": {
        "colab": {
          "base_uri": "https://localhost:8080/"
        },
        "id": "DQuLABjkDXDN",
        "outputId": "4fc99126-a3fb-4e2c-90b5-05c4cd58c209"
      },
      "outputs": [
        {
          "output_type": "stream",
          "name": "stdout",
          "text": [
            "SMOTEENN\n",
            "MATRIZ DE CONFUSION\n",
            "[[6048 44 ] \n",
            " [81 7516 ]]\n",
            "----------Medidas de rendimiento------------\n",
            "Accuracy 0.9908612754766601\n",
            "F1-Score 0.9917464831495663\n",
            "Presicion 0.9941542546449311\n",
            "Recall 0.9893510596288009\n",
            "TNR 0.986784140969163\n",
            "-----------Reporte por clase-------------------\n",
            "         Presicion   Recall   F1-Score\n",
            "Clase 0:  0.987     0.993    0.990 \n",
            "Clase 1:  0.994     0.989    0.992 \n",
            "----------------------------------------\n",
            "Tiempo de entrenamiento: 69.43950629234314 seg\n",
            "Tiempo de validacion: 7.64402437210083 seg\n"
          ]
        }
      ],
      "source": [
        "print(\"SMOTEENN\")\n",
        "validacion(X_smoteen, y_smoteen,rf)"
      ]
    },
    {
      "cell_type": "code",
      "execution_count": null,
      "metadata": {
        "colab": {
          "base_uri": "https://localhost:8080/"
        },
        "id": "Ks3UVbdBlO5_",
        "outputId": "b28551e3-9478-4fcd-9412-0198e4a990ba"
      },
      "outputs": [
        {
          "output_type": "stream",
          "name": "stdout",
          "text": [
            "SMOTE\n",
            "MATRIZ DE CONFUSION\n",
            "[[7998 197 ] \n",
            " [409 7905 ]]\n",
            "----------Medidas de rendimiento------------\n",
            "Accuracy 0.9633109213156459\n",
            "F1-Score 0.9631027353540738\n",
            "Presicion 0.9757022436826437\n",
            "Recall 0.9508299254269905\n",
            "TNR 0.9513500654216724\n",
            "-----------Reporte por clase-------------------\n",
            "         Presicion   Recall   F1-Score\n",
            "Clase 0:  0.951     0.976    0.964 \n",
            "Clase 1:  0.976     0.951    0.963 \n",
            "----------------------------------------\n",
            "Tiempo de entrenamiento: 90.98102712631226 seg\n",
            "Tiempo de validacion: 9.87242317199707 seg\n"
          ]
        }
      ],
      "source": [
        "print(\"SMOTE\")\n",
        "validacion(X_smote,y_smote,rf)"
      ]
    },
    {
      "cell_type": "markdown",
      "metadata": {
        "id": "zmVwyzxXD868"
      },
      "source": [
        "NAIVE BAYES SIN BALANCEO DE DATOS"
      ]
    },
    {
      "cell_type": "code",
      "execution_count": null,
      "metadata": {
        "colab": {
          "base_uri": "https://localhost:8080/"
        },
        "id": "vQREuhLDEBpM",
        "outputId": "7b58e34c-3f5c-47ad-ec91-b5ce9ec75d3b"
      },
      "outputs": [
        {
          "output_type": "stream",
          "name": "stdout",
          "text": [
            "MATRIZ DE CONFUSION\n",
            "[[52 293 ] \n",
            " [1383 6931 ]]\n",
            "----------Medidas de rendimiento------------\n",
            "Accuracy 0.806455710821111\n",
            "F1-Score 0.8711671019377487\n",
            "Presicion 0.9610486716799203\n",
            "Recall 0.8336420495549675\n",
            "TNR 0.03623693379790941\n",
            "-----------Reporte por clase-------------------\n",
            "         Presicion   Recall   F1-Score\n",
            "Clase 0:  0.030     0.151    0.045 \n",
            "Clase 1:  0.961     0.834    0.871 \n",
            "----------------------------------------\n",
            "Tiempo de entrenamiento: 0.5504047870635986 seg\n",
            "Tiempo de validacion: 0.03887820243835449 seg\n"
          ]
        }
      ],
      "source": [
        "validacion(X,y,nv)"
      ]
    },
    {
      "cell_type": "markdown",
      "metadata": {
        "id": "G-Vf7nwWEJJa"
      },
      "source": [
        "NAIVE BAYES CON BALANCEO DE DATOS"
      ]
    },
    {
      "cell_type": "code",
      "execution_count": null,
      "metadata": {
        "colab": {
          "base_uri": "https://localhost:8080/"
        },
        "id": "CR7__ElkEMuA",
        "outputId": "ba419dc5-1371-4b1d-ec9e-c2635908e56d"
      },
      "outputs": [
        {
          "output_type": "stream",
          "name": "stdout",
          "text": [
            "NEARMISS\n",
            "MATRIZ DE CONFUSION\n",
            "[[316 29 ] \n",
            " [7 683 ]]\n",
            "----------Medidas de rendimiento------------\n",
            "Accuracy 0.9656038647342996\n",
            "F1-Score 0.9746156013070275\n",
            "Presicion 0.9595825878047647\n",
            "Recall 0.990144927536232\n",
            "TNR 0.978328173374613\n",
            "-----------Reporte por clase-------------------\n",
            "         Presicion   Recall   F1-Score\n",
            "Clase 0:  0.979     0.917    0.947 \n",
            "Clase 1:  0.960     0.990    0.975 \n",
            "----------------------------------------\n",
            "Tiempo de entrenamiento: 0.13540101051330566 seg\n",
            "Tiempo de validacion: 0.011385440826416016 seg\n"
          ]
        }
      ],
      "source": [
        "print(\"NEARMISS\")\n",
        "validacion(X_near,y_near,nv)"
      ]
    },
    {
      "cell_type": "code",
      "execution_count": null,
      "metadata": {
        "colab": {
          "base_uri": "https://localhost:8080/"
        },
        "id": "XBKKN_1EEM0b",
        "outputId": "4e45fc34-5d99-4b5a-80de-e0ae3cfa72cc"
      },
      "outputs": [
        {
          "output_type": "stream",
          "name": "stdout",
          "text": [
            "SMOTETOMEK\n",
            "MATRIZ DE CONFUSION\n",
            "[[7963 241 ] \n",
            " [6949 1255 ]]\n",
            "----------Medidas de rendimiento------------\n",
            "Accuracy 0.5617808386153096\n",
            "F1-Score 0.2587145274996437\n",
            "Presicion 0.8387853242417529\n",
            "Recall 0.1529741589468552\n",
            "TNR 0.5339994635193133\n",
            "-----------Reporte por clase-------------------\n",
            "         Presicion   Recall   F1-Score\n",
            "Clase 0:  0.534     0.971    0.689 \n",
            "Clase 1:  0.839     0.153    0.259 \n",
            "----------------------------------------\n",
            "Tiempo de entrenamiento: 1.1689298152923584 seg\n",
            "Tiempo de validacion: 0.07889509201049805 seg\n"
          ]
        }
      ],
      "source": [
        "print(\"SMOTETOMEK\")\n",
        "validacion(X_stomek, y_smotek,nv)"
      ]
    },
    {
      "cell_type": "code",
      "execution_count": null,
      "metadata": {
        "colab": {
          "base_uri": "https://localhost:8080/"
        },
        "id": "sqhIvhzSEM5n",
        "outputId": "a62ed7d0-881c-4002-b234-18a97eef99ea"
      },
      "outputs": [
        {
          "output_type": "stream",
          "name": "stdout",
          "text": [
            "SMOTEENN\n",
            "MATRIZ DE CONFUSION\n",
            "[[5846 246 ] \n",
            " [6293 1304 ]]\n",
            "----------Medidas de rendimiento------------\n",
            "Accuracy 0.5222806633063043\n",
            "F1-Score 0.2849832837458989\n",
            "Presicion 0.84162120593887\n",
            "Recall 0.17159405028300642\n",
            "TNR 0.4815882692149271\n",
            "-----------Reporte por clase-------------------\n",
            "         Presicion   Recall   F1-Score\n",
            "Clase 0:  0.482     0.960    0.641 \n",
            "Clase 1:  0.842     0.172    0.285 \n",
            "----------------------------------------\n",
            "Tiempo de entrenamiento: 0.9396014213562012 seg\n",
            "Tiempo de validacion: 0.07279372215270996 seg\n"
          ]
        }
      ],
      "source": [
        "print(\"SMOTEENN\")\n",
        "validacion(X_smoteen, y_smoteen,nv)"
      ]
    },
    {
      "cell_type": "code",
      "execution_count": null,
      "metadata": {
        "colab": {
          "base_uri": "https://localhost:8080/"
        },
        "id": "r8wUiNorlY9d",
        "outputId": "2e45001b-d7bf-4b81-cf5f-c1b9ee73fd30"
      },
      "outputs": [
        {
          "output_type": "stream",
          "name": "stdout",
          "text": [
            "SMOTE\n",
            "MATRIZ DE CONFUSION\n",
            "[[7946 249 ] \n",
            " [7055 1259 ]]\n",
            "----------Medidas de rendimiento------------\n",
            "Accuracy 0.5575807135501847\n",
            "F1-Score 0.2563503854470187\n",
            "Presicion 0.8350998055429472\n",
            "Recall 0.15144334856867933\n",
            "TNR 0.5296980201319912\n",
            "-----------Reporte por clase-------------------\n",
            "         Presicion   Recall   F1-Score\n",
            "Clase 0:  0.530     0.970    0.685 \n",
            "Clase 1:  0.835     0.151    0.256 \n",
            "----------------------------------------\n",
            "Tiempo de entrenamiento: 1.1167984008789062 seg\n",
            "Tiempo de validacion: 0.08616185188293457 seg\n"
          ]
        }
      ],
      "source": [
        "print(\"SMOTE\")\n",
        "validacion(X_smote,y_smote,nv)"
      ]
    },
    {
      "cell_type": "markdown",
      "metadata": {
        "id": "eWYXO88eEecf"
      },
      "source": [
        "RED NEURONAL SIN BALANCEO DE DATOS"
      ]
    },
    {
      "cell_type": "code",
      "execution_count": null,
      "metadata": {
        "colab": {
          "base_uri": "https://localhost:8080/"
        },
        "id": "oYzWkP1iEl2O",
        "outputId": "b53d0f33-d22d-46f4-826a-46b2c7cb8756"
      },
      "outputs": [
        {
          "output_type": "stream",
          "name": "stdout",
          "text": [
            "MATRIZ DE CONFUSION\n",
            "[[3 342 ] \n",
            " [3 8311 ]]\n",
            "----------Medidas de rendimiento------------\n",
            "Accuracy 0.9601801593717522\n",
            "F1-Score 0.9796782030294319\n",
            "Presicion 0.9604877617649237\n",
            "Recall 0.9996511907625691\n",
            "TNR 0.5\n",
            "-----------Reporte por clase-------------------\n",
            "         Presicion   Recall   F1-Score\n",
            "Clase 0:  0.537     0.009    0.018 \n",
            "Clase 1:  0.960     1.000    0.980 \n",
            "----------------------------------------\n",
            "Tiempo de entrenamiento: 168.65752148628235 seg\n",
            "Tiempo de validacion: 17.606956005096436 seg\n"
          ]
        }
      ],
      "source": [
        "validacion(X,y,mlp)"
      ]
    },
    {
      "cell_type": "markdown",
      "metadata": {
        "id": "_utl7BcYEmtq"
      },
      "source": [
        "RED NEURONAL CON BALANCEO DE DATOS"
      ]
    },
    {
      "cell_type": "code",
      "execution_count": null,
      "metadata": {
        "colab": {
          "base_uri": "https://localhost:8080/"
        },
        "id": "NEPgfMJNEl-Q",
        "outputId": "dab27b5c-257c-444b-8640-bd356c3fb6c1"
      },
      "outputs": [
        {
          "output_type": "stream",
          "name": "stdout",
          "text": [
            "NEARMISS\n",
            "MATRIZ DE CONFUSION\n",
            "[[329 16 ] \n",
            " [5 685 ]]\n",
            "----------Medidas de rendimiento------------\n",
            "Accuracy 0.9794202898550723\n",
            "F1-Score 0.9846858787186761\n",
            "Presicion 0.9773180508490672\n",
            "Recall 0.9921739130434784\n",
            "TNR 0.9850299401197605\n",
            "-----------Reporte por clase-------------------\n",
            "         Presicion   Recall   F1-Score\n",
            "Clase 0:  0.984     0.954    0.969 \n",
            "Clase 1:  0.977     0.992    0.985 \n",
            "----------------------------------------\n",
            "Tiempo de entrenamiento: 48.58327507972717 seg\n",
            "Tiempo de validacion: 4.090853691101074 seg\n"
          ]
        }
      ],
      "source": [
        "print(\"NEARMISS\")\n",
        "validacion(X_near,y_near,mlp)"
      ]
    },
    {
      "cell_type": "code",
      "execution_count": null,
      "metadata": {
        "colab": {
          "base_uri": "https://localhost:8080/"
        },
        "id": "Zzm2wnDQE1vC",
        "outputId": "d6533659-46d2-4aef-c97d-a2228c2575c9"
      },
      "outputs": [
        {
          "output_type": "stream",
          "name": "stdout",
          "text": [
            "SMOTETOMEK\n",
            "MATRIZ DE CONFUSION\n",
            "[[6820 1384 ] \n",
            " [1937 6267 ]]\n",
            "----------Medidas de rendimiento------------\n",
            "Accuracy 0.797549975621648\n",
            "F1-Score 0.7900966379333656\n",
            "Presicion 0.8203407959541973\n",
            "Recall 0.763846903949293\n",
            "TNR 0.7788055270069658\n",
            "-----------Reporte por clase-------------------\n",
            "         Presicion   Recall   F1-Score\n",
            "Clase 0:  0.780     0.831    0.804 \n",
            "Clase 1:  0.820     0.764    0.790 \n",
            "----------------------------------------\n",
            "Tiempo de entrenamiento: 1602.566826581955 seg\n",
            "Tiempo de validacion: 179.97790813446045 seg\n"
          ]
        }
      ],
      "source": [
        "print(\"SMOTETOMEK\")\n",
        "validacion(X_stomek, y_smotek,mlp)"
      ]
    },
    {
      "cell_type": "code",
      "execution_count": null,
      "metadata": {
        "id": "FhLmswpKE1y5",
        "colab": {
          "base_uri": "https://localhost:8080/"
        },
        "outputId": "09fb7552-3fa8-436a-8b8c-d2f97284c29c"
      },
      "outputs": [
        {
          "output_type": "stream",
          "name": "stdout",
          "text": [
            "SMOTEENN\n",
            "MATRIZ DE CONFUSION\n",
            "[[4689 1403 ] \n",
            " [1146 6451 ]]\n",
            "----------Medidas de rendimiento------------\n",
            "Accuracy 0.813770180436847\n",
            "F1-Score 0.8350263866854084\n",
            "Presicion 0.8216889987804077\n",
            "Recall 0.8490983282874819\n",
            "TNR 0.803598971722365\n",
            "-----------Reporte por clase-------------------\n",
            "         Presicion   Recall   F1-Score\n",
            "Clase 0:  0.804     0.770    0.786 \n",
            "Clase 1:  0.822     0.849    0.835 \n",
            "----------------------------------------\n",
            "Tiempo de entrenamiento: 1590.3000373840332 seg\n",
            "Tiempo de validacion: 234.14804983139038 seg\n"
          ]
        }
      ],
      "source": [
        "print(\"SMOTEENN\")\n",
        "validacion(X_smoteen, y_smoteen,mlp)"
      ]
    },
    {
      "cell_type": "code",
      "execution_count": null,
      "metadata": {
        "id": "kWfpWzOBljau",
        "colab": {
          "base_uri": "https://localhost:8080/"
        },
        "outputId": "ca31b6b8-078a-45c9-eda6-b7ef889bbf41"
      },
      "outputs": [
        {
          "output_type": "stream",
          "name": "stdout",
          "text": [
            "SMOTE\n",
            "MATRIZ DE CONFUSION\n",
            "[[6732 1463 ] \n",
            " [2046 6268 ]]\n",
            "----------Medidas de rendimiento------------\n",
            "Accuracy 0.7874856139075656\n",
            "F1-Score 0.7806497850908599\n",
            "Presicion 0.8126958494634829\n",
            "Recall 0.7539451527543901\n",
            "TNR 0.7669172932330827\n",
            "-----------Reporte por clase-------------------\n",
            "         Presicion   Recall   F1-Score\n",
            "Clase 0:  0.769     0.822    0.793 \n",
            "Clase 1:  0.813     0.754    0.781 \n",
            "----------------------------------------\n",
            "Tiempo de entrenamiento: 1850.9496982097626 seg\n",
            "Tiempo de validacion: 230.54356694221497 seg\n"
          ]
        }
      ],
      "source": [
        "print(\"SMOTE\")\n",
        "validacion(X_smote,y_smote,mlp)"
      ]
    }
  ],
  "metadata": {
    "colab": {
      "name": "Untitled27.ipynb",
      "provenance": [],
      "authorship_tag": "ABX9TyOSrZ+s3w+tgtegJeyMQb23",
      "include_colab_link": true
    },
    "kernelspec": {
      "display_name": "Python 3",
      "name": "python3"
    },
    "language_info": {
      "name": "python"
    }
  },
  "nbformat": 4,
  "nbformat_minor": 0
}